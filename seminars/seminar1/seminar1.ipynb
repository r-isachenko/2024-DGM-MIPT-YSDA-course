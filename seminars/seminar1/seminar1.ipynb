{
 "cells": [
  {
   "cell_type": "code",
   "execution_count": 1,
   "id": "1f858ee3",
   "metadata": {
    "slideshow": {
     "slide_type": "skip"
    }
   },
   "outputs": [],
   "source": [
    "import numpy as np\n",
    "import matplotlib.pyplot as plt\n",
    "from PIL import Image\n",
    "import itertools\n",
    "\n",
    "import warnings\n",
    "warnings.filterwarnings('ignore')"
   ]
  },
  {
   "cell_type": "markdown",
   "id": "e7f669e7",
   "metadata": {
    "slideshow": {
     "slide_type": "slide"
    }
   },
   "source": [
    "# <center>Deep Generative Models</center>\n",
    "## <center>Seminar 1</center>\n",
    "\n",
    "<center>10.09.2024</center>\n"
   ]
  },
  {
   "cell_type": "markdown",
   "id": "13c3a67c",
   "metadata": {
    "slideshow": {
     "slide_type": "slide"
    }
   },
   "source": [
    "### Kondratenko Vladimir\n",
    "\n",
    "\n",
    "tg: @username27\n",
    "\n",
    "e-mail: vladimir.kondratenko@phystech.edu"
   ]
  },
  {
   "cell_type": "markdown",
   "id": "5a9d090e",
   "metadata": {
    "slideshow": {
     "slide_type": "slide"
    }
   },
   "source": [
    "## Plan\n",
    "\n",
    "Part 1\n",
    "- Maximum Likelihood Estimation\n",
    "- Histograms\n",
    "- Bayes' theorem\n",
    "\n",
    "Part 2\n",
    "- PixelCNN"
   ]
  },
  {
   "cell_type": "markdown",
   "id": "a8a5f2e3",
   "metadata": {
    "slideshow": {
     "slide_type": "slide"
    }
   },
   "source": [
    "## Maximum Likelihood Estimation (MLE)"
   ]
  },
  {
   "cell_type": "markdown",
   "id": "d79e097d",
   "metadata": {
    "slideshow": {
     "slide_type": "fragment"
    }
   },
   "source": [
    "Recall the general task of Generative Modeling. "
   ]
  },
  {
   "cell_type": "markdown",
   "id": "ca41310b",
   "metadata": {
    "slideshow": {
     "slide_type": "fragment"
    }
   },
   "source": [
    "We have samples $X \\sim \\pi(x)$. We assume, that $\\pi(x) = p(x|\\theta), \\theta \\in \\Theta$."
   ]
  },
  {
   "cell_type": "markdown",
   "id": "41176b8c",
   "metadata": {
    "slideshow": {
     "slide_type": "fragment"
    }
   },
   "source": [
    "We want to estimate $\\hat{\\theta} = \\hat{\\theta}(X)$ in order to sample from $p(x|\\hat{\\theta})$ and estimate the corresponding pdf. "
   ]
  },
  {
   "cell_type": "markdown",
   "id": "3d8e0f41",
   "metadata": {
    "slideshow": {
     "slide_type": "fragment"
    }
   },
   "source": [
    "How?\n",
    "\n",
    "$\\theta^* = \\arg\\max\\limits_{\\theta} p(X | \\theta) = \\arg\\max\\limits_{\\theta} \\prod_{i=1}^n p(x_i | \\theta) = \\arg\\max\\limits_{\\theta} \\sum_{i=1}^n \\log p(x_i | \\theta)$"
   ]
  },
  {
   "cell_type": "markdown",
   "id": "44846027",
   "metadata": {
    "slideshow": {
     "slide_type": "slide"
    }
   },
   "source": [
    "## MLE examlpes"
   ]
  },
  {
   "cell_type": "markdown",
   "id": "2d69d6e5",
   "metadata": {
    "slideshow": {
     "slide_type": "fragment"
    }
   },
   "source": [
    "### Problem 1\n",
    "\n",
    "$x_1, ... x_n \\sim U[0,\\theta]$. \n",
    "\n",
    "$\\hat{\\theta}_{ML} = ?$"
   ]
  },
  {
   "cell_type": "markdown",
   "id": "c36b2e90",
   "metadata": {
    "slideshow": {
     "slide_type": "fragment"
    }
   },
   "source": [
    "For a single $x \\sim U[0,\\theta]$:\n",
    "\n",
    "$p(x) = \\dfrac{1}{\\theta}, x \\in [0,\\theta]$\n",
    "\n",
    "$p(x) = 0, x \\notin [0,\\theta]$"
   ]
  },
  {
   "cell_type": "markdown",
   "id": "585637e7",
   "metadata": {
    "slideshow": {
     "slide_type": "slide"
    }
   },
   "source": [
    "We have $x_1, \\dots x_n \\sim U[0,\\theta]$:\n",
    "\n",
    "$p(X | \\theta) = \\begin{cases} \\dfrac{1}{\\theta^{n}}, &X \\in [0,\\theta]^{n}, \\\\ 0, &X \\notin [0,\\theta]^{n} \\end{cases}$"
   ]
  },
  {
   "cell_type": "markdown",
   "id": "69a58da5",
   "metadata": {
    "slideshow": {
     "slide_type": "fragment"
    }
   },
   "source": [
    "It also can be written as:\n",
    "\n",
    "$p(X | \\theta) = \\begin{cases} 0, &\\theta < \\max(x_1, \\dots x_n), \\\\\n",
    "\\dfrac{1}{\\theta^{n}}, &\\theta \\geq \\max(x_1, \\dots x_n) \\end{cases}$"
   ]
  },
  {
   "cell_type": "markdown",
   "id": "541edd00",
   "metadata": {
    "slideshow": {
     "slide_type": "fragment"
    }
   },
   "source": [
    "So, we can find:\n",
    "\n",
    "$\\hat{\\theta}_{ML} = \\max(x_1, ... x_n)$"
   ]
  },
  {
   "cell_type": "markdown",
   "id": "d41cca99",
   "metadata": {
    "slideshow": {
     "slide_type": "slide"
    }
   },
   "source": [
    "$\\hat{\\theta}_{ML} = \\max(x_1, ... x_n)$ is also random variable\n",
    "\n",
    "How does Cumulative distribution function $F_{\\hat{\\theta}_{ML}}(x) = P(\\hat{\\theta}_{ML} < x )$ looks like?"
   ]
  },
  {
   "cell_type": "markdown",
   "id": "1507cee2",
   "metadata": {
    "slideshow": {
     "slide_type": "fragment"
    }
   },
   "source": [
    "\n",
    "$P_{X \\sim U[0,\\theta]}(\\max(x_1, ... x_n) < x) = \\dfrac{x^n}{\\theta^n}$, $x \\in [0,\\theta]$"
   ]
  },
  {
   "cell_type": "markdown",
   "id": "71066e2d",
   "metadata": {
    "slideshow": {
     "slide_type": "slide"
    }
   },
   "source": [
    "Check if the $\\hat{\\theta}_{ML}$ is **unbiased** estimation of $\\theta$, i.e. $\\mathbb{E}\\hat{\\theta}_{ML} = \\theta$."
   ]
  },
  {
   "cell_type": "markdown",
   "id": "8309a859",
   "metadata": {
    "slideshow": {
     "slide_type": "slide"
    }
   },
   "source": [
    "Let's find this $\\mathbb{E}\\hat{\\theta}_{ML} = ?$"
   ]
  },
  {
   "cell_type": "markdown",
   "id": "52dd5855",
   "metadata": {
    "slideshow": {
     "slide_type": "fragment"
    }
   },
   "source": [
    "We know that:\n",
    "\n",
    "$\\mathbb{E}x = \\int_{-\\infty}^{+\\infty} x f(x) dx = \\int_{-\\infty}^{+\\infty} x dF(x)$\n",
    "\n",
    "$\\mathbb{E}_{X \\sim U[0, \\theta]} \\hat{\\theta}_{ML} = \\mathbb{E}_{\\hat{\\theta}_{ML}} x$"
   ]
  },
  {
   "cell_type": "markdown",
   "id": "3e46620c",
   "metadata": {
    "slideshow": {
     "slide_type": "fragment"
    }
   },
   "source": [
    "$\\mathbb{E}_{X \\sim U[0,\\theta]}\\hat{\\theta}_{ML} =\n",
    "\\int_{0}^{\\theta} x d \\dfrac{x^n}{\\theta^n} = ...\n",
    "%\\int_{0}^{\\theta} \\dfrac{xnx^{n-1}}{\\theta^n} d x =\n",
    "%\\int_{0}^{\\theta} \\dfrac{nx^{n}}{\\theta^n} d x =\n",
    "%\\dfrac{n\\theta^{n+1}}{(n+1)\\theta^n}$"
   ]
  },
  {
   "cell_type": "markdown",
   "id": "9561d440",
   "metadata": {
    "slideshow": {
     "slide_type": "fragment"
    }
   },
   "source": [
    "$\\Rightarrow \\mathbb{E}_{X \\sim U[0,\\theta]}\\hat{\\theta}_{ML} = \\dfrac{n}{n+1}\\theta \\Rightarrow$ MLE is **biased**"
   ]
  },
  {
   "cell_type": "markdown",
   "id": "9429619d",
   "metadata": {
    "slideshow": {
     "slide_type": "slide"
    }
   },
   "source": [
    "### MLE\n",
    "\n",
    "- not unbiased\n",
    "- *(regularity conditions)* consistent (состоятельные) i.e. $P_{\\theta_{\\text{true}}}( \\Vert \\hat{\\theta} - \\theta_{\\text{true}} \\Vert > \\varepsilon ) \\rightarrow 0 \\quad \\forall \\varepsilon > 0$\n",
    "- *(regularity conditions ++)* asymptotically normal (асимптотически нормальные) i.e $\\sqrt{n} \\left(\\hat{\\theta} - \\theta \\right) \\overset{d_{\\theta}}{\\rightarrow} \\mathcal{N}(0, \\Sigma(\\theta))$\n",
    "- *(regularity conditions ++)* asymptotically efficient (асимптотически эффективные) i.e. $\\sqrt{n} \\left(\\hat{\\theta} - \\theta \\right) \\overset{d_{\\theta}}{\\rightarrow} \\mathcal{N}(0, I(\\theta)) \\text{  ,where } I(\\theta) \\text{ is Fisher matrix}$"
   ]
  },
  {
   "cell_type": "markdown",
   "id": "04300b36",
   "metadata": {
    "slideshow": {
     "slide_type": "slide"
    }
   },
   "source": [
    "## Simple distributions\n",
    "### Example 1\n",
    "\n",
    "Let we have samples $X \\sim \\pi(x)$ and want approximate $\\pi(x)$"
   ]
  },
  {
   "cell_type": "code",
   "execution_count": 2,
   "id": "658f8086",
   "metadata": {
    "slideshow": {
     "slide_type": "fragment"
    }
   },
   "outputs": [],
   "source": [
    "def generate_1d_data(count, bins):\n",
    "    np.random.seed(42)\n",
    "    a = 0.2 + 0.05 * np.random.randn(count)\n",
    "    b = 0.6 + 0.15 * np.random.randn(count)\n",
    "    mask = np.random.rand(count) < 0.5\n",
    "    samples = np.clip((a * mask + b * (1 - mask)) * (bins - 1), 0.0, (bins - 1))\n",
    "    data = samples.astype('int')\n",
    "    split = int(0.8 * count)\n",
    "    train_samples, test_samples = samples[:split], samples[split:]\n",
    "    train_hist, test_hist = data[:split], data[split:]\n",
    "    return train_samples, test_samples, train_hist, test_hist"
   ]
  },
  {
   "cell_type": "code",
   "execution_count": 3,
   "id": "b4e16325",
   "metadata": {
    "slideshow": {
     "slide_type": "fragment"
    }
   },
   "outputs": [],
   "source": [
    "def plot_1d_data(train_data, test_data):\n",
    "    bins = int(max(test_data.max(), train_data.max()) - min(test_data.min(), train_data.min())) + 1\n",
    "    fig, (ax1, ax2) = plt.subplots(1, 2, figsize=(10, 5))\n",
    "    ax1.set_title('train')\n",
    "    ax1.hist(train_data, bins=bins, density=True)\n",
    "    ax1.set_xlabel('x')\n",
    "    ax2.set_title('test')\n",
    "    ax2.hist(test_data, bins=np.arange(bins), density=True)\n",
    "    plt.show()"
   ]
  },
  {
   "cell_type": "markdown",
   "id": "6279eeb0",
   "metadata": {
    "slideshow": {
     "slide_type": "slide"
    }
   },
   "source": [
    "Let we have samples $X \\sim \\pi(x)$ and want approximate $\\pi(x)$"
   ]
  },
  {
   "cell_type": "code",
   "execution_count": 4,
   "id": "04ebb3cd",
   "metadata": {
    "scrolled": false,
    "slideshow": {
     "slide_type": "fragment"
    }
   },
   "outputs": [
    {
     "data": {
      "image/png": "[encoded data removed]",
      "text/plain": [
       "<Figure size 1000x500 with 2 Axes>"
      ]
     },
     "metadata": {},
     "output_type": "display_data"
    }
   ],
   "source": [
    "BINS = 100\n",
    "COUNT = 1000\n",
    "\n",
    "_, _, train_data, test_data = generate_1d_data(COUNT, BINS)\n",
    "plot_1d_data(train_data, test_data)"
   ]
  },
  {
   "cell_type": "markdown",
   "id": "a6967f47",
   "metadata": {
    "slideshow": {
     "slide_type": "fragment"
    }
   },
   "source": [
    "How we can do it?"
   ]
  },
  {
   "cell_type": "markdown",
   "id": "af0a3250",
   "metadata": {
    "slideshow": {
     "slide_type": "slide"
    }
   },
   "source": [
    "## MLE and histogram\n",
    "\n",
    "Let $X_1, X_2, \\dots X_N \\sim \\text{Categorical}(\\theta_1, \\theta_2, \\dots \\theta_K)$ , where $\\sum\\limits_{i = 1}^{K} \\theta_i = 1$. Denote $\\boldsymbol{\\theta} = (\\theta_1, \\dots, \\theta_K)$\n",
    "\n",
    "**Problem 2**: Find the MLE estimator $\\hat{\\boldsymbol{\\theta}}$"
   ]
  },
  {
   "cell_type": "markdown",
   "id": "18f86965",
   "metadata": {
    "slideshow": {
     "slide_type": "fragment"
    }
   },
   "source": [
    "Let $X$ has $n_i$ elements equal to $i$, $\\sum\\limits_{i=1}^{K}n_i = N$. Loglikelihood: \n",
    "\n",
    "$\\log p(X|\\theta) =\\sum\\limits_{i=1}^{K} n_i \\log p(k=i|\\theta)$\n",
    "\n",
    "**Take a deep breath and work on this step by step**"
   ]
  },
  {
   "cell_type": "markdown",
   "id": "5597857e",
   "metadata": {
    "slideshow": {
     "slide_type": "slide"
    }
   },
   "source": [
    "## Deriving MLE Step-by-Step\n",
    "\n",
    "To find the MLE, we need to maximize the log-likelihood with respect to $\\theta_i$, given the constraint $\\sum\\limits_{i=1}^{K} \\theta_i = 1$.\n",
    "\n",
    "Define the Lagrangian function:\n",
    "\n",
    "$$\n",
    "L(\\theta, \\lambda) = \\sum\\limits_{i=1}^{K} n_i \\log \\theta_i + \\lambda \\left( \\sum\\limits_{i=1}^{K} \\theta_i - 1 \\right)\n",
    "$$\n",
    "\n",
    "Take the derivative with respect to $\\theta_i$:\n",
    "\n",
    "$$\n",
    "\\frac{\\partial L}{\\partial \\theta_i} = \\frac{n_i}{\\theta_i} + \\lambda = 0\n",
    "$$\n",
    "\n",
    "Solve for $\\theta_i$:\n",
    "\n",
    "$$\n",
    "\\theta_i = -\\frac{n_i}{\\lambda}\n",
    "$$"
   ]
  },
  {
   "cell_type": "markdown",
   "id": "2348532e",
   "metadata": {
    "slideshow": {
     "slide_type": "slide"
    }
   },
   "source": [
    "## Applying the Constraint\n",
    "\n",
    "We know that $\\sum\\limits_{i=1}^{K} \\theta_i = 1$, so we substitute:\n",
    "\n",
    "$$\n",
    "\\sum\\limits_{i=1}^{K} \\left(-\\frac{n_i}{\\lambda}\\right) = 1\n",
    "$$\n",
    "\n",
    "Simplifying gives:\n",
    "\n",
    "$$\n",
    "-\\frac{N}{\\lambda} = 1 \\implies \\lambda = -N\n",
    "$$\n",
    "\n",
    "Substitute $\\lambda$ back to find $\\theta_i$:\n",
    "\n",
    "$$\n",
    "\\theta_i = \\frac{n_i}{N}\n",
    "$$"
   ]
  },
  {
   "cell_type": "markdown",
   "id": "2230d8a4",
   "metadata": {
    "slideshow": {
     "slide_type": "slide"
    }
   },
   "source": [
    "### Histogram\n",
    "\n",
    "$\\hat{\\theta_k} = \\dfrac{1}{N} \\sum\\limits_{j = 1}^{N} I(X_j = k) = \\dfrac{n_i}{N}$"
   ]
  },
  {
   "cell_type": "markdown",
   "id": "d3ab1ad3",
   "metadata": {
    "slideshow": {
     "slide_type": "slide"
    }
   },
   "source": [
    "## Histogram\n",
    "\n",
    "$$\\hat{\\theta_k} = \\dfrac{1}{N} \\sum\\limits_{j = 1}^{N} I(X_j = k) = \\dfrac{n_i}{N}$$"
   ]
  },
  {
   "cell_type": "markdown",
   "id": "87066e67",
   "metadata": {
    "slideshow": {
     "slide_type": "slide"
    }
   },
   "source": [
    "## Random fact\n",
    "\n",
    "How can we avoid using the Lagrange multiplier method? "
   ]
  },
  {
   "cell_type": "markdown",
   "id": "f23ccd32",
   "metadata": {
    "slideshow": {
     "slide_type": "fragment"
    }
   },
   "source": [
    "For example $ p(k|\\theta) = \\theta = \\dfrac{e^{\\theta'_k}}{\\sum\\limits_{i=1}^{K}e^{\\theta'_i}}$ aka **Softmax function**\n"
   ]
  },
  {
   "cell_type": "markdown",
   "id": "d831d894",
   "metadata": {
    "slideshow": {
     "slide_type": "slide"
    }
   },
   "source": [
    "## Random fact 2\n",
    "\n",
    "Let $X$ has $n_i$ elements equal to $i$, $\\sum\\limits_{i=1}^{K}n_i = N$. Loglikelihood: \n",
    "\n",
    "$$\\log p(X|\\theta) =\\sum\\limits_{i=1}^{K} n_i \\log p(k=i|\\theta) = \\sum\\limits_{j = 1}^{N} \\sum\\limits_{i = 1}^{K}I(X_j = i) \\log p(k=i|\\theta) = \\sum\\limits_{j = 1}^{N} \\sum\\limits_{i = 1}^{K} I(X_j = i) \\log p_{j}^{i}$$\n",
    "\n",
    "Do you know something like that in PyTorch?"
   ]
  },
  {
   "cell_type": "markdown",
   "id": "f7cd6d34",
   "metadata": {
    "slideshow": {
     "slide_type": "fragment"
    }
   },
   "source": [
    "**Classic ML setup**\n",
    "\n",
    "For batch of $\\{X_j\\}_{j=1}^{N}$ elements and predicted probabilities $\\{(p^1_j, \\dots , p^K_j)\\}_{j=1}^{N}$:\n",
    "\n",
    "$$\\text{CrossEntropyLoss} = - \\sum\\limits_{j=1}^{N} x_j \\log p_{j}^{x_j} = - \\sum\\limits_{j = 1}^{N} \\sum\\limits_{i = 1}^{K}I(X_j = i) \\log p_{j}^{i}$$\n",
    "\n",
    "\n",
    "Optimizing **CrossEntropyLoss is equivalent to the MLE estimator** for categorical data"
   ]
  },
  {
   "cell_type": "markdown",
   "id": "b232ec3f",
   "metadata": {
    "slideshow": {
     "slide_type": "slide"
    }
   },
   "source": [
    "## Histogram in 2D\n",
    "\n",
    "**Question.** Can we consider binarized MNIST to be sampled from a Categorical distribution?\n",
    "\n",
    "<!-- <center><img src=\"data:image/png;base64,\" width=1200 /></center> -->\n",
    "<center><img src=\"data:image/png;base64,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\" width=400 /></center>"
   ]
  },
  {
   "cell_type": "markdown",
   "id": "e3af2252",
   "metadata": {
    "slideshow": {
     "slide_type": "fragment"
    }
   },
   "source": [
    "**Question.** What the problem with histogram model for approximating binarized MNIST (or arbitrary images dataset)?"
   ]
  },
  {
   "cell_type": "markdown",
   "id": "ac98fba5",
   "metadata": {
    "slideshow": {
     "slide_type": "slide"
    }
   },
   "source": [
    "## Histogram for binarized Images\n",
    "\n",
    "**Question**: How many parameters are needed to describe the probability distribution of a binarized image??"
   ]
  },
  {
   "cell_type": "markdown",
   "id": "58ff71a1",
   "metadata": {
    "slideshow": {
     "slide_type": "fragment"
    }
   },
   "source": [
    "**Independent Pixel Encoding** - $N \\times N$ assuming each pixel is encoded independently.\n",
    "\n",
    "**Autoregressive Pixel Encoding** - $2^N - 1$ when using an autoregressive order, where each pixel depends on the previous ones."
   ]
  },
  {
   "cell_type": "markdown",
   "id": "c288b2b6",
   "metadata": {
    "slideshow": {
     "slide_type": "slide"
    }
   },
   "source": [
    "## Bayes' theorem\n",
    "\n",
    "$P(A|B) = \\dfrac{P(B|A)P(A)}{P(B)}$"
   ]
  },
  {
   "cell_type": "markdown",
   "id": "cd3e8f60",
   "metadata": {
    "slideshow": {
     "slide_type": "slide"
    }
   },
   "source": [
    "$f(\\theta|x) = \\dfrac{f(x|\\theta)g(\\theta)}{\\int f(x|\\theta)g(\\theta) d\\theta}$"
   ]
  },
  {
   "cell_type": "markdown",
   "id": "26f53fdb",
   "metadata": {
    "slideshow": {
     "slide_type": "fragment"
    }
   },
   "source": [
    "$\\hat{\\theta}_{ML} = \\text{argmax}_\\theta p(X|\\theta)$\n",
    "\n",
    "$\\hat{\\theta}_{MAP} = \\text{argmax}_\\theta p(\\theta|X)$"
   ]
  },
  {
   "cell_type": "markdown",
   "id": "524406be",
   "metadata": {
    "slideshow": {
     "slide_type": "slide"
    }
   },
   "source": [
    "## Recap\n",
    "\n",
    "0. The main goal of generative modeling (when training a model) is to estimate the parameters of a chosen parametric distribution from a sample.\n",
    "1. Reviewed what MLE (Maximum Likelihood Estimation) is, where it comes from, and how it is derived:\n",
    "   - Write down the likelihood function and maximize it.\n",
    "   - Use the method of Lagrange multipliers to handle constraints.\n",
    "2. The idea of *reparameterization* to remove constraints — using SoftMax to avoid dealing with the Lagrangian.\n",
    "3. Minimizing CrossEntropy is equivalent to maximizing MLE for categorical distributions.\n",
    "4. Histogram model:\n",
    "   - Default approach: \"take the mean in the bin\" = MLE estimation.\n",
    "   - For a good approximation with a large $N$, a lot of samples are needed.\n",
    "   - \"Naive histogram\" - all pixels are independent: requires $N \\times N$ parameters.\n",
    "   - Autoregressive order requires $2^N - 1$ parameters.\n",
    "5. Bayes' theorem — recalled it and noted that MAP (Maximum A Posteriori) estimations also exist."
   ]
  }
 ],
 "metadata": {
  "celltoolbar": "Slideshow",
  "kernelspec": {
   "display_name": "Python 3 (ipykernel)",
   "language": "python",
   "name": "python3"
  },
  "language_info": {
   "codemirror_mode": {
    "name": "ipython",
    "version": 3
   },
   "file_extension": ".py",
   "mimetype": "text/x-python",
   "name": "python",
   "nbconvert_exporter": "python",
   "pygments_lexer": "ipython3",
   "version": "3.11.9"
  },
  "toc-autonumbering": false,
  "toc-showcode": false
 },
 "nbformat": 4,
 "nbformat_minor": 5
}
