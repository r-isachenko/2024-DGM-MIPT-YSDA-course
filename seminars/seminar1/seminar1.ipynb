{
 "cells": [
  {
   "cell_type": "code",
   "execution_count": 1,
   "id": "union-alert",
   "metadata": {
    "slideshow": {
     "slide_type": "skip"
    }
   },
   "outputs": [],
   "source": [
    "import numpy as np\n",
    "import matplotlib.pyplot as plt\n",
    "from PIL import Image\n",
    "import itertools\n",
    "\n",
    "import warnings\n",
    "warnings.filterwarnings('ignore')"
   ]
  },
  {
   "cell_type": "markdown",
   "id": "amber-humidity",
   "metadata": {
    "slideshow": {
     "slide_type": "slide"
    }
   },
   "source": [
    "# <center>Deep Generative Models</center>\n",
    "## <center>Seminar 1</center>\n",
    "\n",
    "<center><img src=\"pics/AIMastersLogo.png\" width=600 /></center>\n",
    "<center>14.02.2024</center>\n"
   ]
  },
  {
   "cell_type": "markdown",
   "id": "cardiac-shame",
   "metadata": {
    "slideshow": {
     "slide_type": "slide"
    }
   },
   "source": [
    "### Kondratenko Vladimir\n",
    "\n",
    "\n",
    "tg: @username27\n",
    "\n",
    "e-mail: vladimir.kondratenko@phystech.edu"
   ]
  },
  {
   "cell_type": "markdown",
   "id": "virgin-offer",
   "metadata": {
    "slideshow": {
     "slide_type": "slide"
    }
   },
   "source": [
    "## Plan\n",
    "\n",
    "- Maximum Likelihood Estimation\n",
    "- Histograms\n",
    "- Bayes' theorem"
   ]
  },
  {
   "cell_type": "markdown",
   "id": "aquatic-version",
   "metadata": {
    "slideshow": {
     "slide_type": "slide"
    }
   },
   "source": [
    "## Maximum Likelihood Estimation (MLE)"
   ]
  },
  {
   "cell_type": "markdown",
   "id": "entitled-entrance",
   "metadata": {
    "slideshow": {
     "slide_type": "fragment"
    }
   },
   "source": [
    "Recall the general task of Generative Modeling. "
   ]
  },
  {
   "cell_type": "markdown",
   "id": "c9affbe5-bb15-4ca8-a1c5-149ab570539d",
   "metadata": {
    "slideshow": {
     "slide_type": "fragment"
    }
   },
   "source": [
    "We have samples $X \\sim \\pi(x)$. We assume, that $\\pi(x) = p(x|\\theta), \\theta \\in \\Theta$."
   ]
  },
  {
   "cell_type": "markdown",
   "id": "17299f29-b674-4401-a62a-8a5b28fac96e",
   "metadata": {
    "slideshow": {
     "slide_type": "fragment"
    }
   },
   "source": [
    "We want to estimate $\\hat{\\theta} = \\hat{\\theta}(X)$ in order to sample from $p(x|\\hat{\\theta})$ and estimate the corresponding pdf. "
   ]
  },
  {
   "cell_type": "markdown",
   "id": "false-appliance",
   "metadata": {
    "slideshow": {
     "slide_type": "fragment"
    }
   },
   "source": [
    "How?\n",
    "\n",
    "$\\theta^* = \\arg\\max\\limits_{\\theta} p(X | \\theta) = \\arg\\max\\limits_{\\theta} \\prod_{i=1}^n p(x_i | \\theta) = \\arg\\max\\limits_{\\theta} \\sum_{i=1}^n \\log p(x_i | \\theta)$"
   ]
  },
  {
   "cell_type": "markdown",
   "id": "valuable-handbook",
   "metadata": {
    "slideshow": {
     "slide_type": "slide"
    }
   },
   "source": [
    "## MLE examlpes"
   ]
  },
  {
   "cell_type": "markdown",
   "id": "awful-threshold",
   "metadata": {
    "slideshow": {
     "slide_type": "fragment"
    }
   },
   "source": [
    "### Problem 1\n",
    "\n",
    "$x_1, ... x_n \\sim U[0,\\theta]$. \n",
    "\n",
    "$\\hat{\\theta}_{ML} = ?$"
   ]
  },
  {
   "cell_type": "markdown",
   "id": "closing-combat",
   "metadata": {
    "slideshow": {
     "slide_type": "fragment"
    }
   },
   "source": [
    "For a single $x \\sim U[0,\\theta]$:\n",
    "\n",
    "$p(x) = \\dfrac{1}{\\theta}, x \\in [0,\\theta]$\n",
    "\n",
    "$p(x) = 0, x \\notin [0,\\theta]$"
   ]
  },
  {
   "cell_type": "markdown",
   "id": "verbal-organ",
   "metadata": {
    "slideshow": {
     "slide_type": "slide"
    }
   },
   "source": [
    "We have $x_1, \\dots x_n \\sim U[0,\\theta]$:\n",
    "\n",
    "$p(X | \\theta) = \\begin{cases} \\dfrac{1}{\\theta^{n}}, &X \\in [0,\\theta]^{n}, \\\\ 0, &X \\notin [0,\\theta]^{n} \\end{cases}$"
   ]
  },
  {
   "cell_type": "markdown",
   "id": "delayed-vision",
   "metadata": {
    "slideshow": {
     "slide_type": "fragment"
    }
   },
   "source": [
    "It also can be written as:\n",
    "\n",
    "$p(X | \\theta) = \\begin{cases} 0, &\\theta < \\max(x_1, \\dots x_n), \\\\\n",
    "\\dfrac{1}{\\theta^{n}}, &\\theta \\geq \\max(x_1, \\dots x_n) \\end{cases}$"
   ]
  },
  {
   "cell_type": "markdown",
   "id": "owned-shock",
   "metadata": {
    "slideshow": {
     "slide_type": "fragment"
    }
   },
   "source": [
    "So, we can find:\n",
    "\n",
    "$\\hat{\\theta}_{ML} = \\max(x_1, ... x_n)$"
   ]
  },
  {
   "cell_type": "markdown",
   "id": "defined-quick",
   "metadata": {
    "slideshow": {
     "slide_type": "slide"
    }
   },
   "source": [
    "$\\hat{\\theta}_{ML} = \\max(x_1, ... x_n)$ is also random variable\n",
    "\n",
    "How does Cumulative distribution function $F_{\\hat{\\theta}_{ML}}(x) = P(\\hat{\\theta}_{ML} < x )$ looks like?"
   ]
  },
  {
   "cell_type": "markdown",
   "id": "objective-victory",
   "metadata": {
    "slideshow": {
     "slide_type": "fragment"
    }
   },
   "source": [
    "\n",
    "$P_{X \\sim U[0,\\theta]}(\\max(x_1, ... x_n) < x) = \\dfrac{x^n}{\\theta^n}$, $x \\in [0,\\theta]$"
   ]
  },
  {
   "cell_type": "markdown",
   "id": "frozen-picnic",
   "metadata": {
    "slideshow": {
     "slide_type": "slide"
    }
   },
   "source": [
    "Check if the $\\hat{\\theta}_{ML}$ is **unbiased** estimation of $\\theta$, i.e. $\\mathbb{E}\\hat{\\theta}_{ML} = \\theta$."
   ]
  },
  {
   "cell_type": "markdown",
   "id": "funded-officer",
   "metadata": {
    "slideshow": {
     "slide_type": "slide"
    }
   },
   "source": [
    "Let's find this $\\mathbb{E}\\hat{\\theta}_{ML} = ?$"
   ]
  },
  {
   "cell_type": "markdown",
   "id": "worst-hammer",
   "metadata": {
    "slideshow": {
     "slide_type": "fragment"
    }
   },
   "source": [
    "We know that:\n",
    "\n",
    "$\\mathbb{E}x = \\int_{-\\infty}^{+\\infty} x f(x) dx = \\int_{-\\infty}^{+\\infty} x dF(x)$\n",
    "\n",
    "$\\mathbb{E}_{X \\sim U[0, \\theta]} \\hat{\\theta}_{ML} = \\mathbb{E}_{\\hat{\\theta}_{ML}} x$"
   ]
  },
  {
   "cell_type": "markdown",
   "id": "physical-establishment",
   "metadata": {
    "slideshow": {
     "slide_type": "fragment"
    }
   },
   "source": [
    "$\\mathbb{E}_{X \\sim U[0,\\theta]}\\hat{\\theta}_{ML} =\n",
    "\\int_{0}^{\\theta} x d \\dfrac{x^n}{\\theta^n} = ...\n",
    "%\\int_{0}^{\\theta} \\dfrac{xnx^{n-1}}{\\theta^n} d x =\n",
    "%\\int_{0}^{\\theta} \\dfrac{nx^{n}}{\\theta^n} d x =\n",
    "%\\dfrac{n\\theta^{n+1}}{(n+1)\\theta^n}$"
   ]
  },
  {
   "cell_type": "markdown",
   "id": "threaded-charter",
   "metadata": {
    "slideshow": {
     "slide_type": "fragment"
    }
   },
   "source": [
    "$\\Rightarrow \\mathbb{E}_{X \\sim U[0,\\theta]}\\hat{\\theta}_{ML} = \\dfrac{n}{n+1}\\theta \\Rightarrow$ MLE is **biased**"
   ]
  },
  {
   "cell_type": "markdown",
   "id": "confused-packaging",
   "metadata": {
    "slideshow": {
     "slide_type": "slide"
    }
   },
   "source": [
    "### MLE\n",
    "\n",
    "- not unbiased\n",
    "- *(regularity conditions)* consistent (состоятельные) i.e. $P_{\\theta_{\\text{true}}}( \\Vert \\hat{\\theta} - \\theta_{\\text{true}} \\Vert > \\varepsilon ) \\rightarrow 0 \\quad \\forall \\varepsilon > 0$\n",
    "- *(regularity conditions ++)* asymptotically normal (асимптотически нормальные) i.e $\\sqrt{n} \\left(\\hat{\\theta} - \\theta \\right) \\overset{d_{\\theta}}{\\rightarrow} \\mathcal{N}(0, \\Sigma(\\theta))$\n",
    "- *(regularity conditions ++)* asymptotically efficient (асимптотически эффективные) i.e. $\\sqrt{n} \\left(\\hat{\\theta} - \\theta \\right) \\overset{d_{\\theta}}{\\rightarrow} \\mathcal{N}(0, I(\\theta)) \\text{  ,where } I(\\theta) \\text{ is Fisher matrix}$"
   ]
  },
  {
   "cell_type": "markdown",
   "id": "novel-trash",
   "metadata": {
    "slideshow": {
     "slide_type": "slide"
    }
   },
   "source": [
    "## Simple distributions\n",
    "### Example 1\n",
    "\n",
    "Let we have samples $X \\sim \\pi(x)$ and want approximate $\\pi(x)$"
   ]
  },
  {
   "cell_type": "code",
   "execution_count": 2,
   "id": "static-exploration",
   "metadata": {
    "slideshow": {
     "slide_type": "fragment"
    }
   },
   "outputs": [],
   "source": [
    "def generate_1d_data(count, bins):\n",
    "    np.random.seed(42)\n",
    "    a = 0.2 + 0.05 * np.random.randn(count)\n",
    "    b = 0.6 + 0.15 * np.random.randn(count)\n",
    "    mask = np.random.rand(count) < 0.5\n",
    "    samples = np.clip((a * mask + b * (1 - mask)) * (bins - 1), 0.0, (bins - 1))\n",
    "    data = samples.astype('int')\n",
    "    split = int(0.8 * count)\n",
    "    train_samples, test_samples = samples[:split], samples[split:]\n",
    "    train_hist, test_hist = data[:split], data[split:]\n",
    "    return train_samples, test_samples, train_hist, test_hist"
   ]
  },
  {
   "cell_type": "code",
   "execution_count": 3,
   "id": "forty-county",
   "metadata": {
    "slideshow": {
     "slide_type": "fragment"
    }
   },
   "outputs": [],
   "source": [
    "def plot_1d_data(train_data, test_data):\n",
    "    bins = int(max(test_data.max(), train_data.max()) - min(test_data.min(), train_data.min())) + 1\n",
    "    fig, (ax1, ax2) = plt.subplots(1, 2, figsize=(10, 5))\n",
    "    ax1.set_title('train')\n",
    "    ax1.hist(train_data, bins=bins, density=True)\n",
    "    ax1.set_xlabel('x')\n",
    "    ax2.set_title('test')\n",
    "    ax2.hist(test_data, bins=np.arange(bins), density=True)\n",
    "    plt.show()"
   ]
  },
  {
   "cell_type": "markdown",
   "id": "2de32a48",
   "metadata": {
    "slideshow": {
     "slide_type": "slide"
    }
   },
   "source": [
    "Let we have samples $X \\sim \\pi(x)$ and want approximate $\\pi(x)$"
   ]
  },
  {
   "cell_type": "code",
   "execution_count": 4,
   "id": "therapeutic-yemen",
   "metadata": {
    "scrolled": false,
    "slideshow": {
     "slide_type": "fragment"
    }
   },
   "outputs": [
    {
     "data": {
      "image/png": "[encoded data removed]",
      "text/plain": [
       "<Figure size 720x360 with 2 Axes>"
      ]
     },
     "metadata": {
      "needs_background": "light"
     },
     "output_type": "display_data"
    }
   ],
   "source": [
    "BINS = 100\n",
    "COUNT = 1000\n",
    "\n",
    "_, _, train_data, test_data = generate_1d_data(COUNT, BINS)\n",
    "plot_1d_data(train_data, test_data)"
   ]
  },
  {
   "cell_type": "markdown",
   "id": "gothic-chaos",
   "metadata": {
    "slideshow": {
     "slide_type": "fragment"
    }
   },
   "source": [
    "How we can do it?"
   ]
  },
  {
   "cell_type": "markdown",
   "id": "83232126",
   "metadata": {
    "slideshow": {
     "slide_type": "slide"
    }
   },
   "source": [
    "## MLE and histogram\n",
    "\n",
    "Let $X_1, X_2, \\dots X_N \\sim \\text{Categorical}(\\theta_1, \\theta_2, \\dots \\theta_K)$ , where $\\sum\\limits_{i = 1}^{K} \\theta_i = 1$. Denote $\\boldsymbol{\\theta} = (\\theta_1, \\dots, \\theta_K)$\n",
    "\n",
    "**Problem 2**: Find the MLE estimator $\\hat{\\boldsymbol{\\theta}}$"
   ]
  },
  {
   "cell_type": "markdown",
   "id": "52b260b2",
   "metadata": {
    "slideshow": {
     "slide_type": "fragment"
    }
   },
   "source": [
    "Let $X$ has $n_i$ elements equal to $i$, $\\sum\\limits_{i=1}^{K}n_i = N$. Loglikelihood: \n",
    "\n",
    "$\\log p(X|\\theta) =\\sum\\limits_{i=1}^{K} n_i \\log p(k=i|\\theta)$\n",
    "\n",
    "**Take a deep breath and work on this step by step**"
   ]
  },
  {
   "cell_type": "markdown",
   "id": "2d85c7a1",
   "metadata": {
    "slideshow": {
     "slide_type": "fragment"
    }
   },
   "source": [
    "### Histogram\n",
    "\n",
    "$\\hat{\\theta_k} = \\dfrac{1}{N} \\sum\\limits_{j = 1}^{N} I(X_j = k) = \\dfrac{n_i}{N}$"
   ]
  },
  {
   "cell_type": "markdown",
   "id": "e46080b2",
   "metadata": {
    "slideshow": {
     "slide_type": "slide"
    }
   },
   "source": [
    "## Random fact\n",
    "\n",
    "How can we avoid using the Lagrange multiplier method? "
   ]
  },
  {
   "cell_type": "markdown",
   "id": "122b8913",
   "metadata": {
    "slideshow": {
     "slide_type": "fragment"
    }
   },
   "source": [
    "For example $ p(k|\\theta) = \\theta = \\dfrac{e^{\\theta'_k}}{\\sum\\limits_{i=1}^{K}e^{\\theta'_i}}$ aka **Softmax function**\n"
   ]
  },
  {
   "cell_type": "markdown",
   "id": "a9fcf2e2",
   "metadata": {
    "slideshow": {
     "slide_type": "slide"
    }
   },
   "source": [
    "## Random fact \n",
    "\n",
    "Let $X$ has $n_i$ elements equal to $i$, $\\sum\\limits_{i=1}^{K}n_i = N$. Loglikelihood: \n",
    "\n",
    "$\\log p(X|\\theta) =\\sum\\limits_{i=1}^{K} n_i \\log p(k=i|\\theta) = \\sum\\limits_{j = 1}^{N} \\sum\\limits_{i = 1}^{K}I(X_j = i) \\log p(k=i|\\theta)$\n",
    "\n",
    "Do you know something like that in PyTorch?"
   ]
  },
  {
   "cell_type": "markdown",
   "id": "124dba5f",
   "metadata": {
    "slideshow": {
     "slide_type": "fragment"
    }
   },
   "source": [
    "**Classic ML setup**\n",
    "\n",
    "For batch of $\\{X_j\\}_{j=1}^{N}$ elements and predicted probabilities $\\{(p^1_j, \\dots , p^K_j)\\}_{j=1}^{N}$:\n",
    "\n",
    "Cross entropy loss = $- \\sum\\limits_{j=1}^{N} x_j \\log p_{j}^{x_j} = - \\sum\\limits_{j = 1}^{N} \\sum\\limits_{i = 1}^{K}I(X_j = i) \\log p_{j}^{i}$"
   ]
  },
  {
   "cell_type": "markdown",
   "id": "7cd6aee0",
   "metadata": {
    "slideshow": {
     "slide_type": "slide"
    }
   },
   "source": [
    "**Question.** Can we consider binarized MNIST to be sampled from a Categorical distribution?\n",
    "\n",
    "<!-- <center><img src=\"data:image/png;base64,\" width=1200 /></center> -->\n",
    "<center><img src=\"data:image/png;base64,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\" width=400 /></center>"
   ]
  },
  {
   "cell_type": "markdown",
   "id": "27738c51",
   "metadata": {
    "slideshow": {
     "slide_type": "fragment"
    }
   },
   "source": [
    "**Question.** What the problem with histogram model for approximating binarized MNIST (or arbitrary images dataset)?"
   ]
  },
  {
   "cell_type": "markdown",
   "id": "designed-solomon",
   "metadata": {
    "slideshow": {
     "slide_type": "slide"
    }
   },
   "source": [
    "### Histogram in 2D"
   ]
  },
  {
   "cell_type": "code",
   "execution_count": 5,
   "id": "optimum-manual",
   "metadata": {
    "slideshow": {
     "slide_type": "fragment"
    }
   },
   "outputs": [],
   "source": [
    "def generate_2d_data(count, bins):\n",
    "    h_bins = int(bins)\n",
    "    w_bins = int(bins)\n",
    "    im = Image.open('pics/2d_distribution.png').resize((w_bins, h_bins)).convert('L')\n",
    "    im = np.array(im).astype('float32')\n",
    "    dist = im / im.sum() # w_bins * h_bins = number of bins\n",
    "\n",
    "    pairs = list(itertools.product(range(h_bins), range(w_bins)))\n",
    "    idxs = np.random.choice(len(pairs), size=count, replace=True, p=dist.reshape(-1))\n",
    "    samples = np.array([pairs[i] for i in idxs])\n",
    "\n",
    "    split = int(0.8 * len(samples))\n",
    "    return dist, samples[:split], samples[split:]"
   ]
  },
  {
   "cell_type": "code",
   "execution_count": 6,
   "id": "veterinary-alloy",
   "metadata": {
    "slideshow": {
     "slide_type": "fragment"
    }
   },
   "outputs": [],
   "source": [
    "def plot_2d_data(train_data, test_data, bins):\n",
    "    h_bins = int(bins)\n",
    "    w_bins = int(bins)\n",
    "    train_dist, test_dist = np.zeros((h_bins, w_bins)), np.zeros((h_bins, w_bins))\n",
    "    for i in range(len(train_data)):\n",
    "        train_dist[train_data[i][0], train_data[i][1]] += 1\n",
    "    train_dist /= train_dist.sum()\n",
    "\n",
    "    for i in range(len(test_data)):\n",
    "        test_dist[test_data[i][0], test_data[i][1]] += 1\n",
    "    test_dist /= test_dist.sum()\n",
    "\n",
    "    fig, (ax1, ax2) = plt.subplots(1, 2, figsize=(10, 6))\n",
    "    ax1.set_title('Train Data')\n",
    "    ax1.imshow(train_dist, cmap='gray')\n",
    "    ax1.axis('off')\n",
    "    ax1.set_xlabel('x1')\n",
    "    ax1.set_ylabel('x0')\n",
    "\n",
    "    ax2.set_title('Test Data')\n",
    "    ax2.imshow(test_dist, cmap='gray')\n",
    "    ax2.axis('off')\n",
    "    ax2.set_xlabel('x1')\n",
    "    ax2.set_ylabel('x0')\n",
    "\n",
    "    plt.show()"
   ]
  },
  {
   "cell_type": "code",
   "execution_count": 10,
   "id": "e99bb9ad",
   "metadata": {
    "slideshow": {
     "slide_type": "slide"
    }
   },
   "outputs": [
    {
     "data": {
      "image/png": "[encoded data removed]",
      "text/plain": [
       "<Figure size 720x360 with 2 Axes>"
      ]
     },
     "metadata": {
      "needs_background": "light"
     },
     "output_type": "display_data"
    }
   ],
   "source": [
    "BINS = 100\n",
    "COUNT = 1000\n",
    "\n",
    "_, _, train_data, test_data = generate_1d_data(COUNT, BINS)\n",
    "plot_1d_data(train_data, test_data)"
   ]
  },
  {
   "cell_type": "code",
   "execution_count": 11,
   "id": "answering-biology",
   "metadata": {
    "slideshow": {
     "slide_type": "fragment"
    }
   },
   "outputs": [
    {
     "data": {
      "image/png": "[encoded data removed]",
      "text/plain": [
       "<Figure size 720x432 with 2 Axes>"
      ]
     },
     "metadata": {
      "needs_background": "light"
     },
     "output_type": "display_data"
    }
   ],
   "source": [
    "COUNT = 100\n",
    "BINS = 64\n",
    "\n",
    "image, train_data, test_data = generate_2d_data(COUNT, BINS)\n",
    "plot_2d_data(train_data, test_data, BINS)"
   ]
  },
  {
   "cell_type": "markdown",
   "id": "968d1662",
   "metadata": {
    "slideshow": {
     "slide_type": "slide"
    }
   },
   "source": [
    "## Bayes' theorem\n",
    "\n",
    "$P(A|B) = \\dfrac{P(B|A)P(A)}{P(B)}$"
   ]
  },
  {
   "cell_type": "markdown",
   "id": "b6af92da",
   "metadata": {
    "slideshow": {
     "slide_type": "fragment"
    }
   },
   "source": [
    "$p(\\text{+} | \\text{healthy}) = 0.01$\n",
    "\n",
    "$p(\\text{+} | \\text{sick}) = 0.9$\n",
    "\n",
    "$p(\\text{sick}) = 0.001$\n",
    "\n",
    "$p(\\text{healthy} | \\text{+}) = ?$, $p(\\text{healthy} | \\text{+}, \\text{+}) = ?$"
   ]
  },
  {
   "cell_type": "markdown",
   "id": "b3184e94",
   "metadata": {
    "slideshow": {
     "slide_type": "slide"
    }
   },
   "source": [
    "$f(\\theta|x) = \\dfrac{f(x|\\theta)g(\\theta)}{\\int f(x|\\theta)g(\\theta) d\\theta}$"
   ]
  },
  {
   "cell_type": "markdown",
   "id": "1a0a98cf",
   "metadata": {
    "slideshow": {
     "slide_type": "fragment"
    }
   },
   "source": [
    "$\\hat{\\theta}_{ML} = \\text{argmax}_\\theta p(X|\\theta)$\n",
    "\n",
    "$\\hat{\\theta}_{MAP} = \\text{argmax}_\\theta p(\\theta|X)$"
   ]
  }
 ],
 "metadata": {
  "celltoolbar": "Slideshow",
  "kernelspec": {
   "display_name": "Python 3",
   "language": "python",
   "name": "python3"
  },
  "language_info": {
   "codemirror_mode": {
    "name": "ipython",
    "version": 3
   },
   "file_extension": ".py",
   "mimetype": "text/x-python",
   "name": "python",
   "nbconvert_exporter": "python",
   "pygments_lexer": "ipython3",
   "version": "3.8.13"
  },
  "toc-autonumbering": false,
  "toc-showcode": false
 },
 "nbformat": 4,
 "nbformat_minor": 5
}
