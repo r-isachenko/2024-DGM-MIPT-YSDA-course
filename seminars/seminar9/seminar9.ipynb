{
 "cells": [
  {
   "cell_type": "code",
   "execution_count": 1,
   "id": "opening-serbia",
   "metadata": {
    "tags": []
   },
   "outputs": [],
   "source": [
    "%load_ext autoreload\n",
    "%autoreload 2"
   ]
  },
  {
   "cell_type": "code",
   "execution_count": 16,
   "id": "outdoor-rescue",
   "metadata": {
    "tags": []
   },
   "outputs": [],
   "source": [
    "from time import time\n",
    "\n",
    "import torch\n",
    "import torch.optim as optim\n",
    "import torch.nn as nn\n",
    "import torch.utils.data as data\n",
    "import torch.nn.functional as F\n",
    "import torch.distributions as TD\n",
    "\n",
    "from scipy.stats import norm\n",
    "\n",
    "import numpy as np\n",
    "from matplotlib import pyplot as plt\n",
    "\n",
    "import sys\n",
    "sys.path.append('../../homeworks') # to grab dgm_utils from ../../homeworks directory\n",
    "from tqdm.notebook import tqdm\n",
    "\n",
    "if torch.cuda.is_available():\n",
    "    DEVICE = 'cuda'\n",
    "    GPU_DEVICE = 1\n",
    "    torch.cuda.set_device(GPU_DEVICE)\n",
    "else:\n",
    "    DEVICE='cpu'\n",
    "# DEVICE='cpu'\n",
    "\n",
    "import warnings\n",
    "warnings.filterwarnings('ignore')\n",
    "\n",
    "# dgm_utils\n",
    "from dgm_utils import train_model, show_samples, visualize_images\n",
    "from dgm_utils import visualize_2d_samples, visualize_2d_densities, visualize_2d_data\n",
    "\n",
    "def reset_seed():\n",
    "    OUTPUT_SEED = 0xBADBEEF\n",
    "    torch.manual_seed(OUTPUT_SEED)\n",
    "    np.random.seed(OUTPUT_SEED)\n",
    "\n",
    "reset_seed()"
   ]
  },
  {
   "cell_type": "code",
   "execution_count": 11,
   "id": "4481c57c",
   "metadata": {},
   "outputs": [],
   "source": [
    "from WGAN import WGAN, WGAN_GP, VanillaGAN"
   ]
  },
  {
   "cell_type": "code",
   "execution_count": 12,
   "id": "31bc4d24",
   "metadata": {},
   "outputs": [],
   "source": [
    "def get_simple_model(hiddens):\n",
    "    assert len(hiddens) > 1\n",
    "\n",
    "    modules = []\n",
    "    for in_, out_ in zip(hiddens[:-2], hiddens[1:-1]):\n",
    "        modules.extend([nn.Linear(in_, out_), nn.ReLU()])\n",
    "\n",
    "    modules.append(nn.Linear(hiddens[-2], hiddens[-1]))\n",
    "\n",
    "    return nn.Sequential(*modules)\n",
    "\n",
    "def plot_gan_data(data_fn, noise_fn, data_pdf=None):\n",
    "    noise = noise_fn(5000).numpy().flatten()\n",
    "    target = data_fn(5000).numpy().flatten()\n",
    "\n",
    "    plt.hist(noise, label='noise', alpha=0.5, density=True, color='b')\n",
    "    plt.hist(target, label='target', alpha=0.5, density=True, color='g')\n",
    "    if data_pdf is not None:\n",
    "        x = np.linspace(-6,6,100)\n",
    "        plt.plot(x, data_pdf(x), 'g', label='real distibution')\n",
    "\n",
    "    plt.legend(loc='upper left')\n",
    "    plt.show()\n",
    "\n",
    "def visualize_GAN(gan, data_pdf=None):\n",
    "    size = 500\n",
    "    x = np.linspace(-6,6,100)\n",
    "    bins = np.linspace(-6,6,60)\n",
    "    real_data = gan.data_fn(size)\n",
    "    noise = gan.noise_fn(size)\n",
    "    sampled_data = gan.generate_samples(noise)\n",
    "    \n",
    "    plt.hist(noise.numpy(), label='noise', alpha=0.5, density=True, color='b', bins=bins)\n",
    "    plt.hist(real_data.numpy(), label='real data', alpha=0.5, density=True, color='g', bins=bins)\n",
    "    plt.hist(sampled_data.numpy(), label='G samples', alpha=0.5, density=True, color='r', bins=bins)\n",
    "    \n",
    "    if data_pdf is not None:\n",
    "        plt.plot(x, data_pdf(x), 'g', label='real distibution')\n",
    "    with torch.no_grad():\n",
    "        plt.plot(x, gan.D(torch.from_numpy(x).float().unsqueeze(-1)).numpy(), 'b', label='D distibution')\n",
    "    \n",
    "    plt.legend(loc='upper left')\n",
    "    plt.show()"
   ]
  },
  {
   "cell_type": "markdown",
   "id": "amber-humidity",
   "metadata": {
    "slideshow": {
     "slide_type": "slide"
    }
   },
   "source": [
    "# <center>Deep Generative Models</center>\n",
    "## <center>Seminar 9</center>\n",
    "\n",
    "<center><img src=\"pics/AIMastersLogo.png\" width=600 /></center>\n",
    "<center>10.04.2024</center>\n"
   ]
  },
  {
   "cell_type": "markdown",
   "id": "e5ceff32-7713-4ed6-bbc6-28c5d97c0d33",
   "metadata": {},
   "source": [
    "## Plan\n",
    "\n",
    "1. Wasserstein GANs\n",
    "     \n",
    "     - Vanilla GAN\n",
    "     \n",
    "     - WGAN\n",
    "     \n",
    "     - WGAN-GP\n",
    "     \n",
    "     - SNGAN\n",
    "\n",
    "2. GANs zoo\n",
    "\n",
    "3. Evolution of GANs"
   ]
  },
  {
   "cell_type": "markdown",
   "id": "systematic-alarm",
   "metadata": {},
   "source": [
    "# Vanilla GAN"
   ]
  },
  {
   "cell_type": "markdown",
   "id": "advanced-national",
   "metadata": {},
   "source": [
    "<img src=\"pics/gan_objective.jpg\" width=800 height=800 />"
   ]
  },
  {
   "cell_type": "markdown",
   "id": "418cd1f7-df15-4ffa-9eb9-386cefc5c399",
   "metadata": {},
   "source": [
    "**Practical Note**:\n",
    "\n",
    "Use **RMSProp** or **Adam** with $\\beta_1 = 0$ when training your GAN. Large $\\beta_1$ of Adam leads to training instabilities!"
   ]
  },
  {
   "cell_type": "code",
   "execution_count": 18,
   "id": "9a1ba35b",
   "metadata": {},
   "outputs": [],
   "source": [
    "mu = 2\n",
    "noise_fn = lambda x: torch.rand((x, 1), device='cpu')-2\n",
    "data_fn = lambda x: mu+torch.randn((x, 1), device='cpu')\n",
    "data_pdf = lambda X: norm.pdf(X-mu)"
   ]
  },
  {
   "cell_type": "code",
   "execution_count": 19,
   "id": "0560c7f6",
   "metadata": {},
   "outputs": [
    {
     "data": {
      "image/png": "[encoded data removed]",
      "text/plain": [
       "<Figure size 432x288 with 1 Axes>"
      ]
     },
     "metadata": {
      "needs_background": "light"
     },
     "output_type": "display_data"
    }
   ],
   "source": [
    "plot_gan_data(data_fn, noise_fn, data_pdf)"
   ]
  },
  {
   "cell_type": "code",
   "execution_count": 23,
   "id": "f0aee8fc",
   "metadata": {},
   "outputs": [],
   "source": [
    "gen_hiddens = [1,64,64,1]\n",
    "dis_hiddens = [1,64,64,1]\n",
    "G = get_simple_model(gen_hiddens)\n",
    "D = nn.Sequential(*get_simple_model(dis_hiddens), nn.Sigmoid())\n",
    "\n",
    "gan = VanillaGAN(G, D, noise_fn, data_fn, device='cpu')"
   ]
  },
  {
   "cell_type": "code",
   "execution_count": 24,
   "id": "815351ce",
   "metadata": {},
   "outputs": [],
   "source": [
    "epochs = 50\n",
    "batches = 100"
   ]
  },
  {
   "cell_type": "code",
   "execution_count": null,
   "id": "3760f70c",
   "metadata": {},
   "outputs": [],
   "source": [
    "step_size = 30\n",
    "loss_g, loss_d_real, loss_d_fake = [], [], []\n",
    "start = time()\n",
    "for epoch in range(epochs):\n",
    "    #break\n",
    "    loss_g_running, loss_d_real_running, loss_d_fake_running = 0, 0, 0\n",
    "    for i,batch in enumerate(range(batches)):\n",
    "        lg_, (ldr_, ldf_) = gan.train_step()\n",
    "        #ldr_, ldf_ = gan.train_step_D()\n",
    "        #if i%step_size == 0:\n",
    "        #    print(i)\n",
    "        #    print('D train step')\n",
    "        #    visualize_GAN(gan)\n",
    "        #lg_ = gan.train_step_G()\n",
    "        #if i%step_size == 0:\n",
    "        #    print('G train step')\n",
    "        #    visualize_GAN(gan)\n",
    "        \n",
    "        loss_g_running += lg_\n",
    "        loss_d_real_running += ldr_\n",
    "        loss_d_fake_running += ldf_\n",
    "    loss_g.append(loss_g_running / batches)\n",
    "    loss_d_real.append(loss_d_real_running / batches)\n",
    "    loss_d_fake.append(loss_d_fake_running / batches)\n",
    "    print(f\"Epoch {epoch+1}/{epochs} ({int(time() - start)}s):\"\n",
    "          f\" G={loss_g[-1]:.3f},\"\n",
    "          f\" Dr={loss_d_real[-1]:.3f},\"\n",
    "          f\" Df={loss_d_fake[-1]:.3f}\")\n",
    "    visualize_GAN(gan, data_pdf=data_pdf)"
   ]
  },
  {
   "cell_type": "markdown",
   "id": "running-canon",
   "metadata": {},
   "source": [
    "## WGAN\n",
    "\n",
    "[WGAN](https://arxiv.org/abs/1701.07875) model uses weight clipping to enforce Lipschitzness of the critic.\n",
    "\n",
    "The model objective is\n",
    "$$\n",
    "\\min_{G} W(\\pi || p) \\approx \\min_{G} \\max_{\\boldsymbol{\\phi} \\in \\boldsymbol{\\Phi}} \\left[ \\mathbb{E}_{\\pi(\\mathbf{x})} f(\\mathbf{x}, \\boldsymbol{\\phi})  - \\mathbb{E}_{p(\\mathbf{z})} f(G(\\mathbf{z}, \\boldsymbol{\\theta}), \\boldsymbol{\\phi} )\\right].\n",
    "$$\n",
    "Here $f(\\mathbf{x}, \\boldsymbol{\\phi})$ is the critic model. The critic weights $\\boldsymbol{\\phi}$ should lie in the compact set $\\boldsymbol{\\Phi} = [-c, c]^d$."
   ]
  },
  {
   "cell_type": "markdown",
   "id": "satellite-howard",
   "metadata": {},
   "source": [
    "<img src=\"pics/wgan_alg.jpg\" width=800 height=800 />"
   ]
  },
  {
   "cell_type": "code",
   "execution_count": 46,
   "id": "7efa0a90",
   "metadata": {},
   "outputs": [],
   "source": [
    "mu = 2\n",
    "noise_fn = lambda x: torch.rand((x, 1), device='cpu')-2\n",
    "data_fn = lambda x: mu+torch.randn((x, 1), device='cpu')\n",
    "data_pdf = lambda X: norm.pdf(X-mu)"
   ]
  },
  {
   "cell_type": "code",
   "execution_count": 74,
   "id": "df2047b7",
   "metadata": {},
   "outputs": [],
   "source": [
    "gen_hiddens = [1,64,64,1]\n",
    "dis_hiddens = [1,64,64,1]\n",
    "G = get_simple_model(gen_hiddens)\n",
    "D = get_simple_model(dis_hiddens)\n",
    "\n",
    "gan = WGAN(G, D, noise_fn, data_fn, device='cpu', n_critic=5, clip_c=0.01)"
   ]
  },
  {
   "cell_type": "code",
   "execution_count": 75,
   "id": "3f108590",
   "metadata": {},
   "outputs": [
    {
     "data": {
      "image/png": "[encoded data removed]",
      "text/plain": [
       "<Figure size 432x288 with 1 Axes>"
      ]
     },
     "metadata": {
      "needs_background": "light"
     },
     "output_type": "display_data"
    }
   ],
   "source": [
    "visualize_GAN(gan, data_pdf=data_pdf)"
   ]
  },
  {
   "cell_type": "code",
   "execution_count": 76,
   "id": "a97d2064",
   "metadata": {},
   "outputs": [],
   "source": [
    "epochs = 50\n",
    "batches = 100"
   ]
  },
  {
   "cell_type": "code",
   "execution_count": null,
   "id": "3299deb1",
   "metadata": {
    "scrolled": true
   },
   "outputs": [],
   "source": [
    "loss_g, loss_d_real, loss_d_fake, loss_WD = [], [], [], []\n",
    "start = time()\n",
    "for epoch in range(epochs):\n",
    "    #break\n",
    "    loss_g_running, loss_d_real_running, loss_d_fake_running, loss_WD_running = 0, 0, 0, 0\n",
    "    for i,batch in enumerate(range(batches)):\n",
    "        lg_, (ldr_, ldf_) = gan.train_step()\n",
    "        loss_g_running += lg_\n",
    "        loss_d_real_running += ldr_\n",
    "        loss_d_fake_running += ldf_\n",
    "        loss_WD_running = ldr_ - ldf_\n",
    "        \n",
    "    loss_g.append(loss_g_running / batches)\n",
    "    loss_d_real.append(loss_d_real_running / batches)\n",
    "    loss_d_fake.append(loss_d_fake_running / batches)\n",
    "    loss_WD.append(loss_WD_running / batches)\n",
    "    \n",
    "    print(f\"Epoch {epoch+1}/{epochs} ({int(time() - start)}s):\"\n",
    "          f\" G={loss_g[-1]:.3f},\"\n",
    "          f\" Dr={loss_d_real[-1]:.3f},\"\n",
    "          f\" Df={loss_d_fake[-1]:.3f},\"\n",
    "            f\" WD={loss_WD[-1]:.3f}\")\n",
    "    visualize_GAN(gan, data_pdf=data_pdf)\n",
    "    #break"
   ]
  },
  {
   "cell_type": "code",
   "execution_count": 87,
   "id": "571d1166",
   "metadata": {},
   "outputs": [],
   "source": [
    "params = []\n",
    "for param in gan.D.parameters():\n",
    "    params.extend(param.detach().numpy().flatten())"
   ]
  },
  {
   "cell_type": "code",
   "execution_count": 89,
   "id": "7c6ba6e8",
   "metadata": {},
   "outputs": [],
   "source": [
    "plt.hist(params, bins=100);"
   ]
  },
  {
   "cell_type": "markdown",
   "id": "50d76ba4",
   "metadata": {},
   "source": [
    "### Bimodal distribution"
   ]
  },
  {
   "cell_type": "code",
   "execution_count": 42,
   "id": "269d507e",
   "metadata": {},
   "outputs": [],
   "source": [
    "noise_fn = lambda x: torch.rand((x, 1), device='cpu') - 0.5\n",
    "\n",
    "pi = torch.tensor([0.7, 0.3])\n",
    "mu = torch.tensor([-3., 3.])\n",
    "scale = torch.tensor([1., 1.])\n",
    "\n",
    "mixture_gaussian = TD.MixtureSameFamily(TD.Categorical(pi), TD.Normal(mu, scale))\n",
    "\n",
    "def data_fn(x):\n",
    "    return mixture_gaussian.sample((x, 1))\n",
    "\n",
    "def data_pdf(x):\n",
    "    return mixture_gaussian.log_prob(torch.tensor(x)).exp().numpy()"
   ]
  },
  {
   "cell_type": "code",
   "execution_count": 43,
   "id": "fc44a1eb",
   "metadata": {},
   "outputs": [],
   "source": [
    "gen_hiddens = [1,64,64,1]\n",
    "dis_hiddens = [1,64,64,1]\n",
    "G = get_simple_model(gen_hiddens)\n",
    "D = get_simple_model(dis_hiddens)\n",
    "\n",
    "gan = WGAN(G, D, noise_fn, data_fn, device='cpu', n_critic=5, clip_c=0.01)"
   ]
  },
  {
   "cell_type": "code",
   "execution_count": 44,
   "id": "0d8b7e23",
   "metadata": {},
   "outputs": [
    {
     "data": {
      "image/png": "[encoded data removed]",
      "text/plain": [
       "<Figure size 432x288 with 1 Axes>"
      ]
     },
     "metadata": {
      "needs_background": "light"
     },
     "output_type": "display_data"
    }
   ],
   "source": [
    "visualize_GAN(gan, data_pdf=data_pdf)"
   ]
  },
  {
   "cell_type": "code",
   "execution_count": null,
   "id": "3edd6c07",
   "metadata": {},
   "outputs": [],
   "source": [
    "loss_g, loss_d_real, loss_d_fake, loss_WD = [], [], [], []\n",
    "start = time()\n",
    "for epoch in range(epochs):\n",
    "    #break\n",
    "    loss_g_running, loss_d_real_running, loss_d_fake_running, loss_WD_running = 0, 0, 0, 0\n",
    "    for i,batch in enumerate(range(batches)):\n",
    "        lg_, (ldr_, ldf_) = gan.train_step()\n",
    "        loss_g_running += lg_\n",
    "        loss_d_real_running += ldr_\n",
    "        loss_d_fake_running += ldf_\n",
    "        loss_WD_running = ldr_ - ldf_\n",
    "        \n",
    "    loss_g.append(loss_g_running / batches)\n",
    "    loss_d_real.append(loss_d_real_running / batches)\n",
    "    loss_d_fake.append(loss_d_fake_running / batches)\n",
    "    loss_WD.append(loss_WD_running / batches)\n",
    "    \n",
    "    print(f\"Epoch {epoch+1}/{epochs} ({int(time() - start)}s):\"\n",
    "          f\" G={loss_g[-1]:.3f},\"\n",
    "          f\" Dr={loss_d_real[-1]:.3f},\"\n",
    "          f\" Df={loss_d_fake[-1]:.3f},\"\n",
    "            f\" WD={loss_WD[-1]:.3f}\")\n",
    "    visualize_GAN(gan, data_pdf=data_pdf)\n",
    "    #break"
   ]
  },
  {
   "cell_type": "markdown",
   "id": "compound-lover",
   "metadata": {},
   "source": [
    "## WGAN-GP\n",
    "\n",
    "[WGAN-GP](https://arxiv.org/pdf/1704.00028.pdf)  model uses gradient penalty to enforce Lipschitzness.\n",
    "\n",
    "The model objective is\n",
    "$$\n",
    "    W(\\pi || p) = \\underbrace{\\mathbb{E}_{\\pi(\\mathbf{x})} f(\\mathbf{x})  - \\mathbb{E}_{p(\\mathbf{x} | \\boldsymbol{\\theta})} f(\\mathbf{x})}_{\\text{original critic loss}} + \\lambda \\underbrace{\\mathbb{E}_{U[0, 1]} \\left[ \\left( \\| \\nabla_{\\hat{\\mathbf{x}}} f(\\hat{\\mathbf{x}}) \\|_2 - 1 \\right) ^ 2\\right]}_{\\text{gradient penalty}},\n",
    "$$\n",
    "where the samples $\\hat{\\mathbf{x}}_t = t \\mathbf{x} + (1 - t) \\mathbf{y}$ with $t \\in [0, 1]$ are uniformly sampled along straight lines between pairs of points: $\\mathbf{x}$ from the data distribution $\\pi(\\mathbf{x})$ and $\\mathbf{y}$ from the generator distribution $p(\\mathbf{x} | \\boldsymbol{\\theta}))$."
   ]
  },
  {
   "cell_type": "markdown",
   "id": "meaningful-venezuela",
   "metadata": {},
   "source": [
    "<img src=\"pics/WGAN-GP_theorem.jpg\" width=800 height=800 />"
   ]
  },
  {
   "cell_type": "markdown",
   "id": "collective-liability",
   "metadata": {},
   "source": [
    "<img src=\"pics/wgan-gp_alg.jpg\" width=800 height=800 />"
   ]
  },
  {
   "cell_type": "code",
   "execution_count": 78,
   "id": "c2595558",
   "metadata": {},
   "outputs": [],
   "source": [
    "mu = 2\n",
    "noise_fn = lambda x: torch.rand((x, 1), device='cpu')-2\n",
    "data_fn = lambda x: mu+torch.randn((x, 1), device='cpu')\n",
    "data_pdf = lambda X: norm.pdf(X-mu)"
   ]
  },
  {
   "cell_type": "code",
   "execution_count": 83,
   "id": "ae32a17d",
   "metadata": {},
   "outputs": [],
   "source": [
    "gen_hiddens = [1,64,64,1]\n",
    "dis_hiddens = [1,64,64,1]\n",
    "G = get_simple_model(gen_hiddens)\n",
    "D = get_simple_model(dis_hiddens)\n",
    "\n",
    "gan = WGAN_GP(G, D, noise_fn, data_fn, device='cpu', n_critic=5, Lambda=1)"
   ]
  },
  {
   "cell_type": "code",
   "execution_count": 84,
   "id": "38291bbe",
   "metadata": {},
   "outputs": [
    {
     "data": {
      "image/png": "[encoded data removed]",
      "text/plain": [
       "<Figure size 432x288 with 1 Axes>"
      ]
     },
     "metadata": {
      "needs_background": "light"
     },
     "output_type": "display_data"
    }
   ],
   "source": [
    "visualize_GAN(gan, data_pdf=data_pdf)"
   ]
  },
  {
   "cell_type": "code",
   "execution_count": 85,
   "id": "b6c443bc",
   "metadata": {},
   "outputs": [],
   "source": [
    "epochs = 50\n",
    "batches = 100"
   ]
  },
  {
   "cell_type": "code",
   "execution_count": null,
   "id": "f8796c87",
   "metadata": {
    "scrolled": true
   },
   "outputs": [],
   "source": [
    "step_size = 30\n",
    "loss_g, loss_d_real, loss_d_fake, loss_WD, loss_gp = [], [], [], [], []\n",
    "start = time()\n",
    "for epoch in range(epochs):\n",
    "    #break\n",
    "    loss_g_running, loss_d_real_running, loss_d_fake_running, loss_WD_running, loss_gp_running = 0, 0, 0, 0, 0\n",
    "    for i,batch in enumerate(range(batches)):\n",
    "        lg_, (ldr_, ldf_, lgp_) = gan.train_step()\n",
    "        #ldr_, ldf_ = gan.train_step_D()\n",
    "        #if i%step_size == 0:\n",
    "        #    print(i)\n",
    "        #    print('D train step')\n",
    "        #    visualize_GAN(gan)\n",
    "        #lg_ = gan.train_step_G()\n",
    "        #if i%step_size == 0:\n",
    "        #    print('G train step')\n",
    "        #    visualize_GAN(gan)\n",
    "        \n",
    "        loss_g_running += lg_\n",
    "        loss_d_real_running += ldr_\n",
    "        loss_d_fake_running += ldf_\n",
    "        loss_gp_running += lgp_\n",
    "        loss_WD_running = ldr_ - ldf_\n",
    "        \n",
    "    loss_g.append(loss_g_running / batches)\n",
    "    loss_d_real.append(loss_d_real_running / batches)\n",
    "    loss_d_fake.append(loss_d_fake_running / batches)\n",
    "    loss_gp.append(loss_gp_running / batches)\n",
    "    loss_WD.append(loss_WD_running / batches)\n",
    "    \n",
    "    print(f\"Epoch {epoch+1}/{epochs} ({int(time() - start)}s):\"\n",
    "          f\" G={loss_g[-1]:.3f},\"\n",
    "          f\" Dr={loss_d_real[-1]:.3f},\"\n",
    "          f\" Df={loss_d_fake[-1]:.3f}\"\n",
    "          f\" WD={loss_WD[-1]:.3f},\"\n",
    "          f\" GP={loss_gp[-1]:.3f}\")\n",
    "    visualize_GAN(gan, data_pdf=data_pdf)\n",
    "    #break"
   ]
  },
  {
   "cell_type": "markdown",
   "id": "63156fe5-dcad-4d7d-b694-00b26939cd17",
   "metadata": {},
   "source": [
    "### SNGAN\n",
    "\n",
    "Spectral Normalization GAN [article](https://arxiv.org/pdf/1802.05957.pdf) replaces the weights in the critic $f(\\mathbf{x}, \\boldsymbol{\\phi})$ by \n",
    "$$\n",
    "    \\mathbf{W}^{SN} = \\frac{\\mathbf{W}}{\\|\\mathbf{W}\\|_2}.\n",
    "$$\n",
    "\n",
    "This ensures that $\\| f\\|_L \\leq 1.$.\n",
    "\n",
    "Power iteration method allows to efficiently compute $\\| \\mathbf{W} \\|_2 = \\sqrt{\\lambda_{\\text{max}}(\\mathbf{W}^T \\mathbf{W})}$.\n",
    "    \n",
    "The pseudocode of the method is:\n",
    "* $\\mathbf{u}_0$ -- random vector.\n",
    "* for $k = 0, \\dots, n - 1$: \n",
    "$$\n",
    "    \\mathbf{v}_{k+1} = \\frac{\\mathbf{W}^T \\mathbf{u}_{k}}{\\| \\mathbf{W}^T \\mathbf{u}_{k} \\|}, \\quad \\mathbf{u}_{k+1} = \\frac{\\mathbf{W} \\mathbf{v}_{k+1}}{\\| \\mathbf{W} \\mathbf{v}_{k+1} \\|}.\n",
    "$$\n",
    "* approximate the spectral norm\n",
    "$$\n",
    "    \\| \\mathbf{W} \\|_2 = \\sqrt{\\lambda_{\\text{max}}(\\mathbf{W}^T \\mathbf{W})} \\approx \\mathbf{u}_{n}^T \\mathbf{W} \\mathbf{v}_{n}.\n",
    "$$\n"
   ]
  },
  {
   "cell_type": "markdown",
   "id": "63f28876-ac3d-4cfa-a1dd-262526e84cdb",
   "metadata": {},
   "source": [
    "## GANs zoo\n",
    "\n",
    "### Losses\n",
    "\n",
    "- Vanilla GAN\n",
    "\n",
    "    <img src=\"pics/gan_objective.jpg\" width=800 height=800 />\n",
    "\n",
    "    - Nonsaturating Vanilla GAN\n",
    "\n",
    "- Wassersteing GAN \n",
    "\n",
    "    <img src=\"pics/WGAN_obj.jpg\" width=800 height=800 />\n",
    "    \n",
    "    - WGAN-GP\n",
    "\n",
    "- IPM GAN \n",
    "\n",
    "    **IPM** (Integral Probability Metric):\n",
    "    \n",
    "    $$\n",
    "    \\gamma_{\\mathcal{F}}(\\mathbb{P}, \\mathbb{Q}) = \\sup\\limits_{f \\in \\mathcal{F}} \\left\\vert \\int f d \\mathbb{P} - \\int f d \\mathbb{Q} \\right\\vert,\n",
    "    $$ \n",
    "    see [Sriperumbudur et. al.](https://arxiv.org/pdf/0901.2698.pdf) for the details on IPM metric.\n",
    "    \n",
    "    see [Mroueh et. al.](https://arxiv.org/pdf/1711.04894.pdf) for the examples of IPM GANs.\n",
    "    \n",
    "    \n",
    "- GAN with Hinge loss\n",
    "\n",
    "    <img src=\"pics/hinge_loss_GAN.png\" width=800 height=800 />\n",
    "    \n",
    "    see [Lim et. al.](https://arxiv.org/pdf/1705.02894.pdf)\n",
    "\n",
    "- fGAN \n",
    "\n",
    "    <img src=\"pics/fgan_loss.png\" width=800 height=800 />\n",
    "    \n",
    "    article: [Nowozin et. al.](https://arxiv.org/pdf/1606.00709.pdf)\n",
    "    \n",
    "    * **Question:** By which parameter we maximize, and by which we minimize?\n",
    "    \n",
    "- ...\n",
    "\n",
    "### Regularizations\n",
    "\n",
    "- Weight clipping, Gradient penalty in WGAN\n",
    "\n",
    "- Spectral Normalization (for general GAN architectures)\n",
    "\n",
    "- $R_1$, $R_2$, $R_3$ regularizations (penalize discriminator gradients) [paper](https://arxiv.org/pdf/1801.04406.pdf), [paper2](https://arxiv.org/pdf/1705.09367.pdf)\n",
    "\n",
    "- Improved techniques for training GANs [paper](https://arxiv.org/pdf/1606.03498.pdf)\n",
    "\n",
    "- Orthogonal regularization [paper](https://arxiv.org/pdf/1809.11096.pdf)\n",
    "\n",
    "    <img src=\"pics/ortho_reg.png\" width=400 height=800 />\n",
    "\n",
    "- ..."
   ]
  }
 ],
 "metadata": {
  "kernelspec": {
   "display_name": "Python 3",
   "language": "python",
   "name": "python3"
  },
  "language_info": {
   "codemirror_mode": {
    "name": "ipython",
    "version": 3
   },
   "file_extension": ".py",
   "mimetype": "text/x-python",
   "name": "python",
   "nbconvert_exporter": "python",
   "pygments_lexer": "ipython3",
   "version": "3.8.13"
  }
 },
 "nbformat": 4,
 "nbformat_minor": 5
}
