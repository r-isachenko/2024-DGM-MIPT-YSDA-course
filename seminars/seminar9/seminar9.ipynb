{
 "cells": [
  {
   "cell_type": "markdown",
   "id": "76f79fa4",
   "metadata": {
    "slideshow": {
     "slide_type": "slide"
    }
   },
   "source": [
    "# <center>Deep Generative Models</center>\n",
    "## <center>Seminar 9</center>\n",
    "\n",
    "<center>05.11.2024</center>"
   ]
  },
  {
   "cell_type": "markdown",
   "id": "b3ac19ee",
   "metadata": {
    "slideshow": {
     "slide_type": "slide"
    }
   },
   "source": [
    "# Noise Conditioned Scored Network\n",
    "Что помните?"
   ]
  },
  {
   "cell_type": "markdown",
   "id": "94cb2826",
   "metadata": {
    "slideshow": {
     "slide_type": "fragment"
    }
   },
   "source": [
    "1. Зашумляем с использованием разных $\\sigma_1 < \\sigma_2 ... < \\sigma_T$\n",
    "2. Учим модель для разных $\\sigma$. Модель знает, для какого $t$ она предсказывает шум\n",
    "3. Семплируем при помощи *Langevin dynamic* - итеративный процесс, когда по чуть-чуть \"скатываемся\" в $\\pi(x)$\n",
    "4. В конце процесса зашумления получаем $N(0, \\sigma_T \\cdot I)$ - чтобы можно было семплировать"
   ]
  },
  {
   "cell_type": "markdown",
   "id": "9d03d3a9",
   "metadata": {
    "slideshow": {
     "slide_type": "fragment"
    }
   },
   "source": [
    "<center><img src=\"attachments/Pasted image 20240508023849.png\" width=700 /></center>\n"
   ]
  },
  {
   "cell_type": "markdown",
   "id": "3f743117",
   "metadata": {
    "slideshow": {
     "slide_type": "slide"
    }
   },
   "source": [
    "<center><img src=\"attachments/Pasted image 20240508023849.png\" width=900 /></center>\n",
    "\n",
    "\n",
    "**Вопрос:** Если мы умеем хорошо предсказывать шум / \"расшумлять\", то почему бы сразу не расшумлять?"
   ]
  },
  {
   "cell_type": "markdown",
   "id": "9492daf4",
   "metadata": {
    "slideshow": {
     "slide_type": "slide"
    }
   },
   "source": [
    "<center><img src=\"attachments/Pasted image 20240508023849.png\" width=900 /></center>\n",
    "\n",
    "\n",
    "**Вопрос:** Как учить?"
   ]
  },
  {
   "cell_type": "markdown",
   "id": "8ccf23bd",
   "metadata": {
    "slideshow": {
     "slide_type": "slide"
    }
   },
   "source": [
    "**Как учить?**\n",
    "<center><img src=\"attachments/Pasted image 20240430191355.png\" width=1000 /></center>"
   ]
  },
  {
   "cell_type": "markdown",
   "id": "6a5e6e2f",
   "metadata": {
    "slideshow": {
     "slide_type": "fragment"
    }
   },
   "source": [
    "**Вопрос:** Как семплировать?"
   ]
  },
  {
   "cell_type": "markdown",
   "id": "f0a4f358",
   "metadata": {
    "slideshow": {
     "slide_type": "slide"
    }
   },
   "source": [
    "**Как семплировать?**\n",
    "\n",
    "<center><img src=\"attachments/Pasted image 20240508023930.png\" width=1000 /></center>"
   ]
  },
  {
   "cell_type": "markdown",
   "id": "5b9b3648",
   "metadata": {
    "slideshow": {
     "slide_type": "fragment"
    }
   },
   "source": [
    "**Вопрос:** Какой критерий остановки?"
   ]
  },
  {
   "cell_type": "markdown",
   "id": "d975597b",
   "metadata": {
    "slideshow": {
     "slide_type": "slide"
    }
   },
   "source": [
    "**Примечание**\n",
    "\n",
    "Чтобы обусловиться на $\\sigma_t$ у score-модели мы учим $s(x_t, t)$. Например: "
   ]
  },
  {
   "cell_type": "code",
   "execution_count": null,
   "id": "ab6ee1f5",
   "metadata": {
    "slideshow": {
     "slide_type": "fragment"
    }
   },
   "outputs": [],
   "source": [
    "class ConditionedResnetBlock(nn.Module):\n",
    "    def __init__(self, dim: int, num_embeddings: int) -> None:\n",
    "        super().__init__()\n",
    "        # you could experiment with this architecture\n",
    "        self.block = nn.Sequential(\n",
    "            nn.Conv2d(dim, dim, kernel_size=1),\n",
    "            nn.ReLU(),\n",
    "            nn.Conv2d(dim, dim, kernel_size=3, padding=1),\n",
    "            nn.ReLU(),\n",
    "            nn.Conv2d(dim, dim, kernel_size=1),\n",
    "        )\n",
    "        self.dim = dim\n",
    "        self.embedding = nn.Embedding(num_embeddings=num_embeddings, embedding_dim=dim)\n",
    "\n",
    "    def forward(self, x: torch.Tensor, y: torch.Tensor) -> torch.Tensor:\n",
    "        time_embed = self.embedding(y).view(-1, self.dim, 1, 1)\n",
    "        return x + self.block(x + time_embed)"
   ]
  },
  {
   "cell_type": "markdown",
   "id": "20ea87d3",
   "metadata": {
    "slideshow": {
     "slide_type": "slide"
    }
   },
   "source": [
    "## Вспомним теорию\n",
    "**Как пришли к этой модели?**"
   ]
  },
  {
   "cell_type": "markdown",
   "id": "22b28a88",
   "metadata": {
    "slideshow": {
     "slide_type": "fragment"
    }
   },
   "source": [
    "1. **Langevin dynamic / Score matching** - не нужно знать $\\pi(x)$, нужно знать $\\nabla_x \\pi(x)$ и можно итеративно семплировать\n",
    "\n",
    "<center><img src=\"attachments/Pasted image 20240429131855.png\" width=800 /></center>"
   ]
  },
  {
   "cell_type": "markdown",
   "id": "563419a3",
   "metadata": {
    "slideshow": {
     "slide_type": "slide"
    }
   },
   "source": [
    "<center><img src=\"attachments/Pasted image 20240429131855.png\" width=800 /></center>\n",
    "\n",
    "**Вопрос:** Не знаем $\\pi(x)$, умеем семплировать. Что делать? "
   ]
  },
  {
   "cell_type": "markdown",
   "id": "a9f209d1",
   "metadata": {
    "slideshow": {
     "slide_type": "slide"
    }
   },
   "source": [
    "2. **Denosing score matching** - зашумим предсказания и будем предсказывать шум, НО $\\nabla_{x_{\\sigma}}q(x_{\\sigma}|x)$ можно будет посчитать!\n",
    "\n",
    "<center><img src=\"attachments/Pasted image 20240508024107.png\" width=1000 /></center>"
   ]
  },
  {
   "cell_type": "markdown",
   "id": "11a6a886",
   "metadata": {
    "slideshow": {
     "slide_type": "fragment"
    }
   },
   "source": [
    "**Вопрос:** В чем обман?"
   ]
  },
  {
   "cell_type": "markdown",
   "id": "3bcb09c2",
   "metadata": {
    "slideshow": {
     "slide_type": "slide"
    }
   },
   "source": [
    "<center><img src=\"attachments/Pasted image 20240508024107.png\" width=1000 /></center>\n",
    "\n",
    "1. Ключевая идея теоремы - разложить матожидание для зашумленных семплов $\\mathbf{E}_{q(x_{\\sigma})} = \\mathbf{E}_{\\pi(x)}\\mathbf{E}_{q(x_{\\sigma}|x)}$\n",
    "2. **В чем обман?** \"локальная\" score функция"
   ]
  },
  {
   "cell_type": "markdown",
   "id": "289be4f3",
   "metadata": {
    "slideshow": {
     "slide_type": "slide"
    }
   },
   "source": [
    "## Итого\n",
    "\n",
    "1. **Langevin dynamic / Score matching** - не знаем $\\pi(x)$, но знаем $\\nabla_x \\pi(x)$ $\\Rightarrow$ можно семплировать из $\\pi(x)$\n",
    "2. **Denosing score matching** - обучаем модель денойзить, получим \"локальные\" score функции \n",
    "3. **Noice Conditioned Score Network** - учим $s(t, x_t)$ для набора $\\sigma_1 < \\sigma_2 ... < \\sigma_T$\n",
    "\t1. $q(x_1) \\sim \\pi(x), q(x_T) \\sim N(0, \\sigma_T \\cdot I)$\n",
    "\t2. Семплируем при помощи *Langevin dynamic*"
   ]
  }
 ],
 "metadata": {
  "celltoolbar": "Slideshow",
  "kernelspec": {
   "display_name": "Python 3 (ipykernel)",
   "language": "python",
   "name": "python3"
  },
  "language_info": {
   "codemirror_mode": {
    "name": "ipython",
    "version": 3
   },
   "file_extension": ".py",
   "mimetype": "text/x-python",
   "name": "python",
   "nbconvert_exporter": "python",
   "pygments_lexer": "ipython3",
   "version": "3.11.9"
  }
 },
 "nbformat": 4,
 "nbformat_minor": 5
}
