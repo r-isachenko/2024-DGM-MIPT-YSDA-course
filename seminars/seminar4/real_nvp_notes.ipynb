{
 "cells": [
  {
   "cell_type": "markdown",
   "id": "3fa20aa1",
   "metadata": {},
   "source": [
    "## Gaussian Autoregressive Normalizaing flows"
   ]
  },
  {
   "cell_type": "markdown",
   "id": "4f51821c-0274-4945-9117-e4dab8c5ea60",
   "metadata": {},
   "source": [
    "<center><img src=\"pics/flows_how2.png\" width=800 /></center>\n",
    "\n"
   ]
  },
  {
   "cell_type": "markdown",
   "id": "9a55ad8e",
   "metadata": {},
   "source": [
    "TODO: a few words about objective"
   ]
  },
  {
   "cell_type": "markdown",
   "id": "274d00eb",
   "metadata": {},
   "source": [
    "* $f = f_{K} \\circ f_{K - 1} \\circ \\dots \\circ f_1$. $f_{k}$, $f_k$ is some diffeomorphism\n",
    "\n",
    "* $f^{-1} = g = g_1 \\circ g_2 \\circ \\dots \\circ g_{K}$. $g_{k} = f_{k}^{-1}$ "
   ]
  },
  {
   "cell_type": "markdown",
   "id": "d343887b",
   "metadata": {},
   "source": [
    "For Gaussian Autoregressive NF $f_k$ and $g_k$ are expressed with the following formulas:\n",
    "$$\n",
    "    \\begin{aligned}\n",
    "        g_k: x_j &= \\sigma_j(x_{1:j-1}) z_j + \\mu_j(x_{1:j-1}), \\quad z_j \\sim N(0, 1)\\\\\n",
    "        f_k:      z_j &=  (x_j - \\mu_j(x_{1:j-1})) \\frac{1}{\\sigma_j(x_{1:j-1})}\n",
    "    \\end{aligned}\n",
    "$$"
   ]
  },
  {
   "cell_type": "markdown",
   "id": "18178db2",
   "metadata": {},
   "source": [
    "$g_k$ is sequential, $f_k$ is not sequential.\n",
    "\n",
    "As a result we have 1) slow autoregressive sampling and 2) fast likelihood computation"
   ]
  },
  {
   "cell_type": "markdown",
   "id": "b39931f0",
   "metadata": {},
   "source": [
    "$$\n",
    "    \\begin{aligned}\n",
    "        f_k:      z_j &=  \\sigma_j(z_{1:j-1}) x_j + \\mu_j(z_{1:j-1}) \\\\\n",
    "        g_k: x_j &= (z_j - \\mu_j(z_{1:j-1})) \\frac{1}{\\sigma_j(z_{1:j-1})}, \\quad z_j \\sim N(0, 1)\n",
    "    \\end{aligned}\n",
    "$$"
   ]
  },
  {
   "cell_type": "markdown",
   "id": "93cef714",
   "metadata": {},
   "source": [
    "$g_k$ is not sequential, $f_k$ is sequential.\n",
    "\n",
    "As a result we have 1) fast sampling and 2) slow autoregressive likelihood computation.\n",
    "\n",
    "Moreover, now we have much slower training process."
   ]
  },
  {
   "cell_type": "markdown",
   "id": "5f534a83",
   "metadata": {},
   "source": [
    "So we would like to have a model without any of theese drawback, but still expressive enough."
   ]
  },
  {
   "cell_type": "markdown",
   "id": "7ce046dd-7520-4316-8caf-555b144d643e",
   "metadata": {
    "slideshow": {
     "slide_type": "slide"
    }
   },
   "source": [
    "## RealNVP"
   ]
  },
  {
   "cell_type": "markdown",
   "id": "9bc69c06-1bf5-4ad3-9cc6-204352b1e583",
   "metadata": {
    "slideshow": {
     "slide_type": "slide"
    }
   },
   "source": [
    "For RealNVP $f_k$ and $g_k$ are expressed with the following formulas (both of them are not sequential):"
   ]
  },
  {
   "cell_type": "markdown",
   "id": "98ee1c32-24d7-4c1d-b11c-500b7175e130",
   "metadata": {
    "slideshow": {
     "slide_type": "fragment"
    }
   },
   "source": [
    "<center><img src=\"pics/RealNVPblock.png\" width=800 /></center>\n",
    "\n",
    "**Q:** How to model $\\boldsymbol{\\sigma}(\\cdot, \\theta)$ and $\\boldsymbol{\\mu}(\\cdot, \\theta)$ for $2D$ data case?"
   ]
  },
  {
   "cell_type": "markdown",
   "id": "678db44a-bf90-43eb-a06f-e0424d9b009c",
   "metadata": {
    "slideshow": {
     "slide_type": "fragment"
    }
   },
   "source": [
    "```python\n",
    "# x : tensor (bs, 2) \n",
    "\n",
    "x_1 = x * mask # tensor (bs, 2), mask is [0, 1] or [1, 0]\n",
    "logit = NN(x_1) # tensor (bs, 2), i.e. NN : (bs, 2) -> (bs, 2)\n",
    "mu, log_sigma = logit.split # tensors (bs, 1), (bs, 1)\n",
    "# What to do next?\n",
    "mu = mu * (1 - mask)\n",
    "log_sigma = log_sigma * (1 - mask)\n",
    "z = log_sigma.exp() * x + mu\n",
    "```"
   ]
  },
  {
   "cell_type": "markdown",
   "id": "3c3604a3-98ee-4c42-9bca-c41c1dbbc189",
   "metadata": {
    "slideshow": {
     "slide_type": "slide"
    }
   },
   "source": [
    "### Jacobian\n",
    "\n",
    "<center><img src=\"pics/RealNVPblock.png\" width=800 /></center>"
   ]
  },
  {
   "cell_type": "markdown",
   "id": "fcc1e005-c949-4730-93b7-01ed62b0e15b",
   "metadata": {
    "slideshow": {
     "slide_type": "fragment"
    }
   },
   "source": [
    "$$ \\log\\det \\left(\\frac{\\partial \\boldsymbol{z}}{\\partial \\boldsymbol{x}}\\right) = \\log\\det \\begin{bmatrix}\\mathbf{I}_d & 0_{d \\times m - d}\\\\ \\frac{\\partial \\boldsymbol{z}_2}{\\partial \\boldsymbol{x}_1} & \\frac{\\partial \\boldsymbol{z}_2}{\\partial \\boldsymbol{x}_2} \\end{bmatrix} =\\\\= \\text{sum } [ \\underbrace{0, 0, \\dots 0}_{d \\text{ times}} ,  \\log \\frac{\\partial z_{d + 1}}{\\partial x_{d + 1}}, \\dots , \\log \\frac{\\partial z_{m}}{\\partial x_{m}}] = ?$$"
   ]
  },
  {
   "cell_type": "markdown",
   "id": "d1a027fe",
   "metadata": {
    "slideshow": {
     "slide_type": "fragment"
    }
   },
   "source": [
    "**Q:** What is RealNVP block input and output?"
   ]
  },
  {
   "cell_type": "markdown",
   "id": "d3202216-a3cf-4742-9740-fb8e8387ce3d",
   "metadata": {
    "slideshow": {
     "slide_type": "fragment"
    }
   },
   "source": [
    "```python\n",
    "# x : tensor (bs, 2) \n",
    "\n",
    "z, log_det = RealNVPBlock(x) # tensors (bs, 2), (bs, 2)\n",
    "```\n",
    "\n",
    "* `log_det` is the batch of vectors $[\\log \\frac{\\partial z_{1}}{\\partial x_{1}}, \\log \\frac{\\partial z_{2}}{\\partial x_{2}}]$"
   ]
  },
  {
   "cell_type": "markdown",
   "id": "6f94a477-b5c2-4db1-9072-4cb17d0a75d9",
   "metadata": {
    "slideshow": {
     "slide_type": "fragment"
    }
   },
   "source": [
    "Principial RealNVP block scheme (for both $2D$ data and image data)\n",
    "\n",
    "```python\n",
    "# x : tensor (bs, *shape)\n",
    "\n",
    "x_1 = prepare_x1(x)\n",
    "logit = NN(x_1)\n",
    "mu, log_sigma = logit.split\n",
    "z = coupling(mu, log_sigma, x) # z.shape == x.shape\n",
    "log_det = log_frac_dz_i_dx_i(mu, log_sigma, x) # log_det.shape == x.shape !!!\n",
    "```"
   ]
  },
  {
   "cell_type": "markdown",
   "id": "f11fd879-f92e-474c-ab6b-f5089730a0ad",
   "metadata": {
    "slideshow": {
     "slide_type": "slide"
    }
   },
   "source": [
    "**Q:** How to combine several RealNVP blocks?"
   ]
  },
  {
   "cell_type": "markdown",
   "id": "ea02fe28-2984-49ce-8dc8-4b9e08fb9217",
   "metadata": {
    "slideshow": {
     "slide_type": "fragment"
    }
   },
   "source": [
    "```python\n",
    "# x : tensor (bs, 2) \n",
    "\n",
    "# RealNVPBlockList = [RealNVPBlock(0), RealNVPBloc(1), ...]\n",
    "log_det = 0\n",
    "for i in range(N):\n",
    "    z, curr_log_det = RealNVPBlockList[i](x)\n",
    "    log_det += curr_log_det\n",
    "    x = z\n",
    "```"
   ]
  },
  {
   "cell_type": "markdown",
   "id": "e0538d14-347f-48df-80a1-ecf64e22ae9f",
   "metadata": {
    "slideshow": {
     "slide_type": "fragment"
    }
   },
   "source": [
    "**Q:** How to train RealNVP model?"
   ]
  },
  {
   "cell_type": "markdown",
   "id": "48fffa22-28fa-4778-b169-32a3c64b8db9",
   "metadata": {
    "slideshow": {
     "slide_type": "fragment"
    }
   },
   "source": [
    "Use **ForwardKL** in the data $X$-space (or **ReverseKL** in the latent $Z$-space which is equivalent). Objective:\n",
    "\n",
    "$$-E_{\\pi(x)} \\left(\\log p_z(f(x, \\theta)) + \\log | \\det J_f|\\right)$$"
   ]
  },
  {
   "cell_type": "markdown",
   "id": "f0ef90cf-dfdd-4a9c-ab31-3f0e9131b95d",
   "metadata": {
    "slideshow": {
     "slide_type": "slide"
    }
   },
   "source": [
    "**Q:** How to split data vector $\\boldsymbol{x}$ onto $[\\boldsymbol{x}_1, \\boldsymbol{x}_2]$ when $\\boldsymbol{x}$ is an image?"
   ]
  },
  {
   "cell_type": "markdown",
   "id": "18f59def-686c-482b-802c-3ed68635b227",
   "metadata": {
    "slideshow": {
     "slide_type": "fragment"
    }
   },
   "source": [
    "### RealNVP block for image data case"
   ]
  },
  {
   "cell_type": "markdown",
   "id": "0429e0f2-660d-4452-88ea-188bdd6e2c67",
   "metadata": {},
   "source": [
    "The splitting schemes were proposed in the original RealNVP [article](https://arxiv.org/pdf/1605.08803.pdf).\n",
    "\n",
    "<center><img src=\"pics/image_splitting_realnvp.png\" width=800 /></center>\n",
    "\n",
    "**Question**: What does the picture show?"
   ]
  },
  {
   "cell_type": "markdown",
   "id": "0b6c9595-e3e4-4d88-bdb8-93f9816a80ad",
   "metadata": {
    "slideshow": {
     "slide_type": "slide"
    }
   },
   "source": [
    "### `CheckerboardCouplingLayer`\n",
    "\n",
    "<center><img src=\"pics/checkerboard_splitting.png\" width=400 /></center>\n",
    "\n",
    "**Q:** Let input $\\boldsymbol{x}$ has shape `(bs, c, w, h)`. \n",
    "\n",
    "What is the input and output of the network which produces $\\boldsymbol{\\mu}, \\boldsymbol{\\log \\sigma}$ (what tensors and of which shape)? \n",
    "\n",
    "What is the output of `CheckerboardCouplingLayer` (what tensors and of which shape)?"
   ]
  },
  {
   "cell_type": "markdown",
   "id": "95f5f5f4-b620-4928-8b3e-7b483958b085",
   "metadata": {
    "slideshow": {
     "slide_type": "slide"
    }
   },
   "source": [
    "### `ChannelCouplingLayer`\n",
    "\n",
    "<center><img src=\"pics/channelwise_splitting.png\" width=400 /></center>\n",
    "\n",
    "**Q:** Do we need to mask the input tensor $\\boldsymbol{x}$ in order to get $\\boldsymbol{x}_1$?\n",
    "\n",
    "**Q:** Let input $\\boldsymbol{x}$ has shape `(bs, 2 * c, w, h)`. \n",
    "\n",
    "What is the input and output of the network which produces $\\boldsymbol{\\mu}, \\boldsymbol{\\log \\sigma}$ (what tensors and of which shape)?\n",
    "\n",
    "What is the output of `ChannelCouplingLayer` (what tensors and of which shape)?"
   ]
  },
  {
   "cell_type": "markdown",
   "id": "837bb1c6-8575-49ec-9d16-e524468bbdf6",
   "metadata": {
    "slideshow": {
     "slide_type": "slide"
    }
   },
   "source": [
    "### `squeeze` and `undo_squeeze` operations"
   ]
  },
  {
   "cell_type": "markdown",
   "id": "3842b8fa-89be-45eb-a747-e1fd9796355c",
   "metadata": {},
   "source": [
    "<center><img src=\"pics/squeezing.png\" width=600 /></center>\n",
    "\n",
    "**Q:** Let input $\\boldsymbol{x}$ has shape `(bs, c, w, h)`. Shape of the tensor under `squeeze` operation?"
   ]
  },
  {
   "cell_type": "markdown",
   "id": "756e8f94-1bc0-4178-a37b-d05282ed66a8",
   "metadata": {
    "slideshow": {
     "slide_type": "slide"
    }
   },
   "source": [
    "**Expected ordering of Coupling layers**\n",
    "\n",
    "(following the original article [RealNVP](https://arxiv.org/pdf/1605.08803.pdf))"
   ]
  },
  {
   "cell_type": "markdown",
   "id": "3c223578-9a60-430c-b209-4a0f70334bf8",
   "metadata": {},
   "source": [
    "```python\n",
    "#input: (bs, 1, w, h)\n",
    "CheckerboardCouplingLayer(\"even\"),\n",
    "CheckerboardCouplingLayer(\"odd\"),\n",
    "CheckerboardCouplingLayer(\"even\"),\n",
    "CheckerboardCouplingLayer(\"odd\"),\n",
    "```"
   ]
  },
  {
   "cell_type": "markdown",
   "id": "c40ed71b",
   "metadata": {},
   "source": [
    "```python\n",
    "# squeeze the tensor: (bs, 1, w, h) -> (bs, 4, w/2, h/2)\n",
    "squeeze()\n",
    "ChannelCouplingLayer(\"top\")\n",
    "ChannelCouplingLayer(\"bottom\")\n",
    "ChannelCouplingLayer(\"top\")\n",
    "ChannelCouplingLayer(\"bottom\")\n",
    "```"
   ]
  },
  {
   "cell_type": "markdown",
   "id": "a207df82",
   "metadata": {},
   "source": [
    "```python\n",
    "# unsqueeze the tensor: (bs, 4, w/2, h/2) -> (bs, 1, w, h)\n",
    "unsqueeze()\n",
    "CheckerboardCouplingLayer(\"even\"),\n",
    "CheckerboardCouplingLayer(\"odd\"),\n",
    "CheckerboardCouplingLayer(\"even\"),\n",
    "CheckerboardCouplingLayer(\"odd\")\n",
    "```"
   ]
  }
 ],
 "metadata": {
  "celltoolbar": "Слайд-шоу",
  "kernelspec": {
   "display_name": "Python 3",
   "language": "python",
   "name": "python3"
  },
  "language_info": {
   "codemirror_mode": {
    "name": "ipython",
    "version": 3
   },
   "file_extension": ".py",
   "mimetype": "text/x-python",
   "name": "python",
   "nbconvert_exporter": "python",
   "pygments_lexer": "ipython3",
   "version": "3.8.13"
  },
  "rise": {
   "theme": "sky"
  },
  "toc-autonumbering": false,
  "toc-showcode": false
 },
 "nbformat": 4,
 "nbformat_minor": 5
}
